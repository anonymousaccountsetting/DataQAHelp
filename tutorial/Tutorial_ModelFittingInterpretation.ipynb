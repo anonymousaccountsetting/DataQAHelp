{
  "cells": [
    {
      "cell_type": "markdown",
      "id": "81e0620e",
      "metadata": {
        "id": "81e0620e"
      },
      "source": [
        "# 💻 DataQAHelper Model Fitting and Interpretation Tutorial\n",
        "\n",
        "DataQAHelper is a Python framework that supports low-code data-to-text application development. It aims to automate machine learning workflows and convert unintuitive analysis results into easy-to-understand FAQ-like text reports.\n",
        "\n",
        "Compared with other data science tools, DataQAHelper focuses on the easily overlooked data interpretation stage, using FAQ-like textual reports to help users understand data analysis results faster and take necessary actions.\n"
      ]
    },
    {
      "cell_type": "markdown",
      "id": "8116e19d",
      "metadata": {
        "id": "8116e19d"
      },
      "source": [
        "# 💻 Before Starting\n",
        "\n",
        "DataQAHelper is tested and supported on Python 3.10.\n",
        "\n",
        "The framework is mainly supported by three core components:\n",
        "\n",
        "- DataScienceComponents.py contains many data science algorithms.\n",
        "- NLGComponents.py contains many default natural language generation algorithms for editing templates in template files.\n",
        "- IntegratedPipelines.py contains many predefined pipelines, which connect DataScienceComponents.py and NLGComponents.py in the form of questions and answers.\n",
        "\n",
        "If the user wants to quickly understand a certain dataset, calling the corresponding function in IntegratedPipelines.py is enough. Similarly, users can also customize the above components to make the generated FAQ-like reports more in line with their requirements.\n",
        "\n",
        "You can download DataQAHelper from GitHub.\n",
        "If you are working on Colab, here are some example commands to install the required packages and set the path to the framework:"
      ]
    },
    {
      "cell_type": "code",
      "source": [
        "from google.colab import drive\n",
        "drive.mount('/content/drive')\n",
        "!pip install -r /content/drive/MyDrive/ColabNotebooks/DataQAHelperWithoutLLM/requirements.txt\n",
        "import sys\n",
        "sys.path.append('/content/drive/MyDrive/ColabNotebooks/DataQAHelperWithoutLLM/')"
      ],
      "metadata": {
        "id": "QziF01a3tup1",
        "colab": {
          "base_uri": "https://localhost:8080/"
        },
        "outputId": "8067c346-411b-4553-c700-5c1aa0cba1cb"
      },
      "id": "QziF01a3tup1",
      "execution_count": 1,
      "outputs": [
        {
          "output_type": "stream",
          "name": "stdout",
          "text": [
            "Drive already mounted at /content/drive; to attempt to forcibly remount, call drive.mount(\"/content/drive\", force_remount=True).\n",
            "Requirement already satisfied: numpy==1.23.5 in /usr/local/lib/python3.10/dist-packages (from -r /content/drive/MyDrive/ColabNotebooks/DataQAHelperWithoutLLM/requirements.txt (line 1)) (1.23.5)\n",
            "Requirement already satisfied: seaborn==0.12.2 in /usr/local/lib/python3.10/dist-packages (from -r /content/drive/MyDrive/ColabNotebooks/DataQAHelperWithoutLLM/requirements.txt (line 2)) (0.12.2)\n",
            "Requirement already satisfied: pandas==1.5.3 in /usr/local/lib/python3.10/dist-packages (from -r /content/drive/MyDrive/ColabNotebooks/DataQAHelperWithoutLLM/requirements.txt (line 3)) (1.5.3)\n",
            "Requirement already satisfied: matplotlib==3.7.1 in /usr/local/lib/python3.10/dist-packages (from -r /content/drive/MyDrive/ColabNotebooks/DataQAHelperWithoutLLM/requirements.txt (line 4)) (3.7.1)\n",
            "Requirement already satisfied: matplotlib-inline==0.1.6 in /usr/local/lib/python3.10/dist-packages (from -r /content/drive/MyDrive/ColabNotebooks/DataQAHelperWithoutLLM/requirements.txt (line 5)) (0.1.6)\n",
            "Requirement already satisfied: scikit-learn==1.2.2 in /usr/local/lib/python3.10/dist-packages (from -r /content/drive/MyDrive/ColabNotebooks/DataQAHelperWithoutLLM/requirements.txt (line 6)) (1.2.2)\n",
            "Requirement already satisfied: scikit-plot==0.3.7 in /usr/local/lib/python3.10/dist-packages (from -r /content/drive/MyDrive/ColabNotebooks/DataQAHelperWithoutLLM/requirements.txt (line 7)) (0.3.7)\n",
            "Requirement already satisfied: statsmodels==0.13.5 in /usr/local/lib/python3.10/dist-packages (from -r /content/drive/MyDrive/ColabNotebooks/DataQAHelperWithoutLLM/requirements.txt (line 8)) (0.13.5)\n",
            "Requirement already satisfied: Jinja2==3.1.2 in /usr/local/lib/python3.10/dist-packages (from -r /content/drive/MyDrive/ColabNotebooks/DataQAHelperWithoutLLM/requirements.txt (line 9)) (3.1.2)\n",
            "Requirement already satisfied: jupyter-dash==0.4.2 in /usr/local/lib/python3.10/dist-packages (from -r /content/drive/MyDrive/ColabNotebooks/DataQAHelperWithoutLLM/requirements.txt (line 10)) (0.4.2)\n",
            "Requirement already satisfied: dash==2.9.1 in /usr/local/lib/python3.10/dist-packages (from -r /content/drive/MyDrive/ColabNotebooks/DataQAHelperWithoutLLM/requirements.txt (line 11)) (2.9.1)\n",
            "Requirement already satisfied: dash-bootstrap-components==1.4.1 in /usr/local/lib/python3.10/dist-packages (from -r /content/drive/MyDrive/ColabNotebooks/DataQAHelperWithoutLLM/requirements.txt (line 12)) (1.4.1)\n",
            "Requirement already satisfied: dash-core-components==2.0.0 in /usr/local/lib/python3.10/dist-packages (from -r /content/drive/MyDrive/ColabNotebooks/DataQAHelperWithoutLLM/requirements.txt (line 13)) (2.0.0)\n",
            "Requirement already satisfied: dash-html-components==2.0.0 in /usr/local/lib/python3.10/dist-packages (from -r /content/drive/MyDrive/ColabNotebooks/DataQAHelperWithoutLLM/requirements.txt (line 14)) (2.0.0)\n",
            "Requirement already satisfied: dash-table==5.0.0 in /usr/local/lib/python3.10/dist-packages (from -r /content/drive/MyDrive/ColabNotebooks/DataQAHelperWithoutLLM/requirements.txt (line 15)) (5.0.0)\n",
            "Requirement already satisfied: plotly==5.13.1 in /usr/local/lib/python3.10/dist-packages (from -r /content/drive/MyDrive/ColabNotebooks/DataQAHelperWithoutLLM/requirements.txt (line 16)) (5.13.1)\n",
            "Requirement already satisfied: language-tool-python==2.7.1 in /usr/local/lib/python3.10/dist-packages (from -r /content/drive/MyDrive/ColabNotebooks/DataQAHelperWithoutLLM/requirements.txt (line 17)) (2.7.1)\n",
            "Requirement already satisfied: iteration-utilities==0.11.0 in /usr/local/lib/python3.10/dist-packages (from -r /content/drive/MyDrive/ColabNotebooks/DataQAHelperWithoutLLM/requirements.txt (line 18)) (0.11.0)\n",
            "Requirement already satisfied: pwlf==2.2.1 in /usr/local/lib/python3.10/dist-packages (from -r /content/drive/MyDrive/ColabNotebooks/DataQAHelperWithoutLLM/requirements.txt (line 19)) (2.2.1)\n",
            "Requirement already satisfied: pycaret==3.0.0 in /usr/local/lib/python3.10/dist-packages (from -r /content/drive/MyDrive/ColabNotebooks/DataQAHelperWithoutLLM/requirements.txt (line 20)) (3.0.0)\n",
            "Requirement already satisfied: joblib==1.2.0 in /usr/local/lib/python3.10/dist-packages (from -r /content/drive/MyDrive/ColabNotebooks/DataQAHelperWithoutLLM/requirements.txt (line 21)) (1.2.0)\n",
            "Requirement already satisfied: opencv-python==4.7.0.72 in /usr/local/lib/python3.10/dist-packages (from -r /content/drive/MyDrive/ColabNotebooks/DataQAHelperWithoutLLM/requirements.txt (line 22)) (4.7.0.72)\n",
            "Requirement already satisfied: python-docx==0.8.11 in /usr/local/lib/python3.10/dist-packages (from -r /content/drive/MyDrive/ColabNotebooks/DataQAHelperWithoutLLM/requirements.txt (line 23)) (0.8.11)\n",
            "Requirement already satisfied: python-dateutil>=2.8.1 in /usr/local/lib/python3.10/dist-packages (from pandas==1.5.3->-r /content/drive/MyDrive/ColabNotebooks/DataQAHelperWithoutLLM/requirements.txt (line 3)) (2.8.2)\n",
            "Requirement already satisfied: pytz>=2020.1 in /usr/local/lib/python3.10/dist-packages (from pandas==1.5.3->-r /content/drive/MyDrive/ColabNotebooks/DataQAHelperWithoutLLM/requirements.txt (line 3)) (2023.4)\n",
            "Requirement already satisfied: contourpy>=1.0.1 in /usr/local/lib/python3.10/dist-packages (from matplotlib==3.7.1->-r /content/drive/MyDrive/ColabNotebooks/DataQAHelperWithoutLLM/requirements.txt (line 4)) (1.2.1)\n",
            "Requirement already satisfied: cycler>=0.10 in /usr/local/lib/python3.10/dist-packages (from matplotlib==3.7.1->-r /content/drive/MyDrive/ColabNotebooks/DataQAHelperWithoutLLM/requirements.txt (line 4)) (0.12.1)\n",
            "Requirement already satisfied: fonttools>=4.22.0 in /usr/local/lib/python3.10/dist-packages (from matplotlib==3.7.1->-r /content/drive/MyDrive/ColabNotebooks/DataQAHelperWithoutLLM/requirements.txt (line 4)) (4.53.0)\n",
            "Requirement already satisfied: kiwisolver>=1.0.1 in /usr/local/lib/python3.10/dist-packages (from matplotlib==3.7.1->-r /content/drive/MyDrive/ColabNotebooks/DataQAHelperWithoutLLM/requirements.txt (line 4)) (1.4.5)\n",
            "Requirement already satisfied: packaging>=20.0 in /usr/local/lib/python3.10/dist-packages (from matplotlib==3.7.1->-r /content/drive/MyDrive/ColabNotebooks/DataQAHelperWithoutLLM/requirements.txt (line 4)) (24.1)\n",
            "Requirement already satisfied: pillow>=6.2.0 in /usr/local/lib/python3.10/dist-packages (from matplotlib==3.7.1->-r /content/drive/MyDrive/ColabNotebooks/DataQAHelperWithoutLLM/requirements.txt (line 4)) (9.4.0)\n",
            "Requirement already satisfied: pyparsing>=2.3.1 in /usr/local/lib/python3.10/dist-packages (from matplotlib==3.7.1->-r /content/drive/MyDrive/ColabNotebooks/DataQAHelperWithoutLLM/requirements.txt (line 4)) (3.1.2)\n",
            "Requirement already satisfied: traitlets in /usr/local/lib/python3.10/dist-packages (from matplotlib-inline==0.1.6->-r /content/drive/MyDrive/ColabNotebooks/DataQAHelperWithoutLLM/requirements.txt (line 5)) (5.7.1)\n",
            "Requirement already satisfied: scipy>=1.3.2 in /usr/local/lib/python3.10/dist-packages (from scikit-learn==1.2.2->-r /content/drive/MyDrive/ColabNotebooks/DataQAHelperWithoutLLM/requirements.txt (line 6)) (1.11.4)\n",
            "Requirement already satisfied: threadpoolctl>=2.0.0 in /usr/local/lib/python3.10/dist-packages (from scikit-learn==1.2.2->-r /content/drive/MyDrive/ColabNotebooks/DataQAHelperWithoutLLM/requirements.txt (line 6)) (3.5.0)\n",
            "Requirement already satisfied: patsy>=0.5.2 in /usr/local/lib/python3.10/dist-packages (from statsmodels==0.13.5->-r /content/drive/MyDrive/ColabNotebooks/DataQAHelperWithoutLLM/requirements.txt (line 8)) (0.5.6)\n",
            "Requirement already satisfied: MarkupSafe>=2.0 in /usr/local/lib/python3.10/dist-packages (from Jinja2==3.1.2->-r /content/drive/MyDrive/ColabNotebooks/DataQAHelperWithoutLLM/requirements.txt (line 9)) (2.1.5)\n",
            "Requirement already satisfied: requests in /usr/local/lib/python3.10/dist-packages (from jupyter-dash==0.4.2->-r /content/drive/MyDrive/ColabNotebooks/DataQAHelperWithoutLLM/requirements.txt (line 10)) (2.31.0)\n",
            "Requirement already satisfied: flask in /usr/local/lib/python3.10/dist-packages (from jupyter-dash==0.4.2->-r /content/drive/MyDrive/ColabNotebooks/DataQAHelperWithoutLLM/requirements.txt (line 10)) (2.2.5)\n",
            "Requirement already satisfied: retrying in /usr/local/lib/python3.10/dist-packages (from jupyter-dash==0.4.2->-r /content/drive/MyDrive/ColabNotebooks/DataQAHelperWithoutLLM/requirements.txt (line 10)) (1.3.4)\n",
            "Requirement already satisfied: ipython in /usr/local/lib/python3.10/dist-packages (from jupyter-dash==0.4.2->-r /content/drive/MyDrive/ColabNotebooks/DataQAHelperWithoutLLM/requirements.txt (line 10)) (7.34.0)\n",
            "Requirement already satisfied: ipykernel in /usr/local/lib/python3.10/dist-packages (from jupyter-dash==0.4.2->-r /content/drive/MyDrive/ColabNotebooks/DataQAHelperWithoutLLM/requirements.txt (line 10)) (5.5.6)\n",
            "Requirement already satisfied: ansi2html in /usr/local/lib/python3.10/dist-packages (from jupyter-dash==0.4.2->-r /content/drive/MyDrive/ColabNotebooks/DataQAHelperWithoutLLM/requirements.txt (line 10)) (1.9.2)\n",
            "Requirement already satisfied: nest-asyncio in /usr/local/lib/python3.10/dist-packages (from jupyter-dash==0.4.2->-r /content/drive/MyDrive/ColabNotebooks/DataQAHelperWithoutLLM/requirements.txt (line 10)) (1.6.0)\n",
            "Requirement already satisfied: tenacity>=6.2.0 in /usr/local/lib/python3.10/dist-packages (from plotly==5.13.1->-r /content/drive/MyDrive/ColabNotebooks/DataQAHelperWithoutLLM/requirements.txt (line 16)) (8.4.1)\n",
            "Requirement already satisfied: tqdm in /usr/local/lib/python3.10/dist-packages (from language-tool-python==2.7.1->-r /content/drive/MyDrive/ColabNotebooks/DataQAHelperWithoutLLM/requirements.txt (line 17)) (4.66.4)\n",
            "Requirement already satisfied: pyDOE>=0.3.8 in /usr/local/lib/python3.10/dist-packages (from pwlf==2.2.1->-r /content/drive/MyDrive/ColabNotebooks/DataQAHelperWithoutLLM/requirements.txt (line 19)) (0.3.8)\n",
            "Requirement already satisfied: ipywidgets>=7.6.5 in /usr/local/lib/python3.10/dist-packages (from pycaret==3.0.0->-r /content/drive/MyDrive/ColabNotebooks/DataQAHelperWithoutLLM/requirements.txt (line 20)) (7.7.1)\n",
            "Requirement already satisfied: pyod>=1.0.8 in /usr/local/lib/python3.10/dist-packages (from pycaret==3.0.0->-r /content/drive/MyDrive/ColabNotebooks/DataQAHelperWithoutLLM/requirements.txt (line 20)) (2.0.1)\n",
            "Requirement already satisfied: imbalanced-learn>=0.8.1 in /usr/local/lib/python3.10/dist-packages (from pycaret==3.0.0->-r /content/drive/MyDrive/ColabNotebooks/DataQAHelperWithoutLLM/requirements.txt (line 20)) (0.10.1)\n",
            "Requirement already satisfied: category-encoders>=2.4.0 in /usr/local/lib/python3.10/dist-packages (from pycaret==3.0.0->-r /content/drive/MyDrive/ColabNotebooks/DataQAHelperWithoutLLM/requirements.txt (line 20)) (2.6.3)\n",
            "Requirement already satisfied: lightgbm>=3.0.0 in /usr/local/lib/python3.10/dist-packages (from pycaret==3.0.0->-r /content/drive/MyDrive/ColabNotebooks/DataQAHelperWithoutLLM/requirements.txt (line 20)) (4.1.0)\n",
            "Requirement already satisfied: numba>=0.55.0 in /usr/local/lib/python3.10/dist-packages (from pycaret==3.0.0->-r /content/drive/MyDrive/ColabNotebooks/DataQAHelperWithoutLLM/requirements.txt (line 20)) (0.58.1)\n",
            "Requirement already satisfied: psutil>=5.9.0 in /usr/local/lib/python3.10/dist-packages (from pycaret==3.0.0->-r /content/drive/MyDrive/ColabNotebooks/DataQAHelperWithoutLLM/requirements.txt (line 20)) (5.9.5)\n",
            "Requirement already satisfied: importlib-metadata>=4.12.0 in /usr/local/lib/python3.10/dist-packages (from pycaret==3.0.0->-r /content/drive/MyDrive/ColabNotebooks/DataQAHelperWithoutLLM/requirements.txt (line 20)) (7.2.0)\n",
            "Requirement already satisfied: nbformat>=4.2.0 in /usr/local/lib/python3.10/dist-packages (from pycaret==3.0.0->-r /content/drive/MyDrive/ColabNotebooks/DataQAHelperWithoutLLM/requirements.txt (line 20)) (5.10.4)\n",
            "Requirement already satisfied: cloudpickle in /usr/local/lib/python3.10/dist-packages (from pycaret==3.0.0->-r /content/drive/MyDrive/ColabNotebooks/DataQAHelperWithoutLLM/requirements.txt (line 20)) (2.2.1)\n",
            "Requirement already satisfied: deprecation>=2.1.0 in /usr/local/lib/python3.10/dist-packages (from pycaret==3.0.0->-r /content/drive/MyDrive/ColabNotebooks/DataQAHelperWithoutLLM/requirements.txt (line 20)) (2.1.0)\n",
            "Requirement already satisfied: xxhash in /usr/local/lib/python3.10/dist-packages (from pycaret==3.0.0->-r /content/drive/MyDrive/ColabNotebooks/DataQAHelperWithoutLLM/requirements.txt (line 20)) (3.4.1)\n",
            "Requirement already satisfied: yellowbrick>=1.4 in /usr/local/lib/python3.10/dist-packages (from pycaret==3.0.0->-r /content/drive/MyDrive/ColabNotebooks/DataQAHelperWithoutLLM/requirements.txt (line 20)) (1.5)\n",
            "Requirement already satisfied: kaleido>=0.2.1 in /usr/local/lib/python3.10/dist-packages (from pycaret==3.0.0->-r /content/drive/MyDrive/ColabNotebooks/DataQAHelperWithoutLLM/requirements.txt (line 20)) (0.2.1)\n",
            "Requirement already satisfied: schemdraw>=0.14 in /usr/local/lib/python3.10/dist-packages (from pycaret==3.0.0->-r /content/drive/MyDrive/ColabNotebooks/DataQAHelperWithoutLLM/requirements.txt (line 20)) (0.19)\n",
            "Requirement already satisfied: plotly-resampler>=0.8.3.1 in /usr/local/lib/python3.10/dist-packages (from pycaret==3.0.0->-r /content/drive/MyDrive/ColabNotebooks/DataQAHelperWithoutLLM/requirements.txt (line 20)) (0.10.0)\n",
            "Requirement already satisfied: sktime>=0.16.1 in /usr/local/lib/python3.10/dist-packages (from pycaret==3.0.0->-r /content/drive/MyDrive/ColabNotebooks/DataQAHelperWithoutLLM/requirements.txt (line 20)) (0.30.1)\n",
            "Requirement already satisfied: tbats>=1.1.0 in /usr/local/lib/python3.10/dist-packages (from pycaret==3.0.0->-r /content/drive/MyDrive/ColabNotebooks/DataQAHelperWithoutLLM/requirements.txt (line 20)) (1.1.3)\n",
            "Requirement already satisfied: pmdarima!=1.8.1,<3.0.0,>=1.8.0 in /usr/local/lib/python3.10/dist-packages (from pycaret==3.0.0->-r /content/drive/MyDrive/ColabNotebooks/DataQAHelperWithoutLLM/requirements.txt (line 20)) (2.0.4)\n",
            "Requirement already satisfied: wurlitzer in /usr/local/lib/python3.10/dist-packages (from pycaret==3.0.0->-r /content/drive/MyDrive/ColabNotebooks/DataQAHelperWithoutLLM/requirements.txt (line 20)) (3.1.1)\n",
            "Requirement already satisfied: lxml>=2.3.2 in /usr/local/lib/python3.10/dist-packages (from python-docx==0.8.11->-r /content/drive/MyDrive/ColabNotebooks/DataQAHelperWithoutLLM/requirements.txt (line 23)) (4.9.4)\n",
            "Requirement already satisfied: Werkzeug>=2.2.2 in /usr/local/lib/python3.10/dist-packages (from flask->jupyter-dash==0.4.2->-r /content/drive/MyDrive/ColabNotebooks/DataQAHelperWithoutLLM/requirements.txt (line 10)) (3.0.3)\n",
            "Requirement already satisfied: itsdangerous>=2.0 in /usr/local/lib/python3.10/dist-packages (from flask->jupyter-dash==0.4.2->-r /content/drive/MyDrive/ColabNotebooks/DataQAHelperWithoutLLM/requirements.txt (line 10)) (2.2.0)\n",
            "Requirement already satisfied: click>=8.0 in /usr/local/lib/python3.10/dist-packages (from flask->jupyter-dash==0.4.2->-r /content/drive/MyDrive/ColabNotebooks/DataQAHelperWithoutLLM/requirements.txt (line 10)) (8.1.7)\n",
            "Requirement already satisfied: zipp>=0.5 in /usr/local/lib/python3.10/dist-packages (from importlib-metadata>=4.12.0->pycaret==3.0.0->-r /content/drive/MyDrive/ColabNotebooks/DataQAHelperWithoutLLM/requirements.txt (line 20)) (3.19.2)\n",
            "Requirement already satisfied: setuptools>=18.5 in /usr/local/lib/python3.10/dist-packages (from ipython->jupyter-dash==0.4.2->-r /content/drive/MyDrive/ColabNotebooks/DataQAHelperWithoutLLM/requirements.txt (line 10)) (67.7.2)\n",
            "Requirement already satisfied: jedi>=0.16 in /usr/local/lib/python3.10/dist-packages (from ipython->jupyter-dash==0.4.2->-r /content/drive/MyDrive/ColabNotebooks/DataQAHelperWithoutLLM/requirements.txt (line 10)) (0.19.1)\n",
            "Requirement already satisfied: decorator in /usr/local/lib/python3.10/dist-packages (from ipython->jupyter-dash==0.4.2->-r /content/drive/MyDrive/ColabNotebooks/DataQAHelperWithoutLLM/requirements.txt (line 10)) (4.4.2)\n",
            "Requirement already satisfied: pickleshare in /usr/local/lib/python3.10/dist-packages (from ipython->jupyter-dash==0.4.2->-r /content/drive/MyDrive/ColabNotebooks/DataQAHelperWithoutLLM/requirements.txt (line 10)) (0.7.5)\n",
            "Requirement already satisfied: prompt-toolkit!=3.0.0,!=3.0.1,<3.1.0,>=2.0.0 in /usr/local/lib/python3.10/dist-packages (from ipython->jupyter-dash==0.4.2->-r /content/drive/MyDrive/ColabNotebooks/DataQAHelperWithoutLLM/requirements.txt (line 10)) (3.0.47)\n",
            "Requirement already satisfied: pygments in /usr/local/lib/python3.10/dist-packages (from ipython->jupyter-dash==0.4.2->-r /content/drive/MyDrive/ColabNotebooks/DataQAHelperWithoutLLM/requirements.txt (line 10)) (2.16.1)\n",
            "Requirement already satisfied: backcall in /usr/local/lib/python3.10/dist-packages (from ipython->jupyter-dash==0.4.2->-r /content/drive/MyDrive/ColabNotebooks/DataQAHelperWithoutLLM/requirements.txt (line 10)) (0.2.0)\n",
            "Requirement already satisfied: pexpect>4.3 in /usr/local/lib/python3.10/dist-packages (from ipython->jupyter-dash==0.4.2->-r /content/drive/MyDrive/ColabNotebooks/DataQAHelperWithoutLLM/requirements.txt (line 10)) (4.9.0)\n",
            "Requirement already satisfied: ipython-genutils~=0.2.0 in /usr/local/lib/python3.10/dist-packages (from ipywidgets>=7.6.5->pycaret==3.0.0->-r /content/drive/MyDrive/ColabNotebooks/DataQAHelperWithoutLLM/requirements.txt (line 20)) (0.2.0)\n",
            "Requirement already satisfied: widgetsnbextension~=3.6.0 in /usr/local/lib/python3.10/dist-packages (from ipywidgets>=7.6.5->pycaret==3.0.0->-r /content/drive/MyDrive/ColabNotebooks/DataQAHelperWithoutLLM/requirements.txt (line 20)) (3.6.6)\n",
            "Requirement already satisfied: jupyterlab-widgets>=1.0.0 in /usr/local/lib/python3.10/dist-packages (from ipywidgets>=7.6.5->pycaret==3.0.0->-r /content/drive/MyDrive/ColabNotebooks/DataQAHelperWithoutLLM/requirements.txt (line 20)) (3.0.11)\n",
            "Requirement already satisfied: jupyter-client in /usr/local/lib/python3.10/dist-packages (from ipykernel->jupyter-dash==0.4.2->-r /content/drive/MyDrive/ColabNotebooks/DataQAHelperWithoutLLM/requirements.txt (line 10)) (6.1.12)\n",
            "Requirement already satisfied: tornado>=4.2 in /usr/local/lib/python3.10/dist-packages (from ipykernel->jupyter-dash==0.4.2->-r /content/drive/MyDrive/ColabNotebooks/DataQAHelperWithoutLLM/requirements.txt (line 10)) (6.3.3)\n",
            "Requirement already satisfied: fastjsonschema>=2.15 in /usr/local/lib/python3.10/dist-packages (from nbformat>=4.2.0->pycaret==3.0.0->-r /content/drive/MyDrive/ColabNotebooks/DataQAHelperWithoutLLM/requirements.txt (line 20)) (2.20.0)\n",
            "Requirement already satisfied: jsonschema>=2.6 in /usr/local/lib/python3.10/dist-packages (from nbformat>=4.2.0->pycaret==3.0.0->-r /content/drive/MyDrive/ColabNotebooks/DataQAHelperWithoutLLM/requirements.txt (line 20)) (4.19.2)\n",
            "Requirement already satisfied: jupyter-core!=5.0.*,>=4.12 in /usr/local/lib/python3.10/dist-packages (from nbformat>=4.2.0->pycaret==3.0.0->-r /content/drive/MyDrive/ColabNotebooks/DataQAHelperWithoutLLM/requirements.txt (line 20)) (5.7.2)\n",
            "Requirement already satisfied: llvmlite<0.42,>=0.41.0dev0 in /usr/local/lib/python3.10/dist-packages (from numba>=0.55.0->pycaret==3.0.0->-r /content/drive/MyDrive/ColabNotebooks/DataQAHelperWithoutLLM/requirements.txt (line 20)) (0.41.1)\n",
            "Requirement already satisfied: six in /usr/local/lib/python3.10/dist-packages (from patsy>=0.5.2->statsmodels==0.13.5->-r /content/drive/MyDrive/ColabNotebooks/DataQAHelperWithoutLLM/requirements.txt (line 8)) (1.16.0)\n",
            "Requirement already satisfied: orjson<4.0.0,>=3.8.0 in /usr/local/lib/python3.10/dist-packages (from plotly-resampler>=0.8.3.1->pycaret==3.0.0->-r /content/drive/MyDrive/ColabNotebooks/DataQAHelperWithoutLLM/requirements.txt (line 20)) (3.10.5)\n",
            "Requirement already satisfied: tsdownsample>=0.1.3 in /usr/local/lib/python3.10/dist-packages (from plotly-resampler>=0.8.3.1->pycaret==3.0.0->-r /content/drive/MyDrive/ColabNotebooks/DataQAHelperWithoutLLM/requirements.txt (line 20)) (0.1.3)\n",
            "Requirement already satisfied: Cython!=0.29.18,!=0.29.31,>=0.29 in /usr/local/lib/python3.10/dist-packages (from pmdarima!=1.8.1,<3.0.0,>=1.8.0->pycaret==3.0.0->-r /content/drive/MyDrive/ColabNotebooks/DataQAHelperWithoutLLM/requirements.txt (line 20)) (3.0.10)\n",
            "Requirement already satisfied: urllib3 in /usr/local/lib/python3.10/dist-packages (from pmdarima!=1.8.1,<3.0.0,>=1.8.0->pycaret==3.0.0->-r /content/drive/MyDrive/ColabNotebooks/DataQAHelperWithoutLLM/requirements.txt (line 20)) (2.0.7)\n",
            "Requirement already satisfied: charset-normalizer<4,>=2 in /usr/local/lib/python3.10/dist-packages (from requests->jupyter-dash==0.4.2->-r /content/drive/MyDrive/ColabNotebooks/DataQAHelperWithoutLLM/requirements.txt (line 10)) (3.3.2)\n",
            "Requirement already satisfied: idna<4,>=2.5 in /usr/local/lib/python3.10/dist-packages (from requests->jupyter-dash==0.4.2->-r /content/drive/MyDrive/ColabNotebooks/DataQAHelperWithoutLLM/requirements.txt (line 10)) (3.7)\n",
            "Requirement already satisfied: certifi>=2017.4.17 in /usr/local/lib/python3.10/dist-packages (from requests->jupyter-dash==0.4.2->-r /content/drive/MyDrive/ColabNotebooks/DataQAHelperWithoutLLM/requirements.txt (line 10)) (2024.6.2)\n",
            "Requirement already satisfied: scikit-base<0.9.0,>=0.6.1 in /usr/local/lib/python3.10/dist-packages (from sktime>=0.16.1->pycaret==3.0.0->-r /content/drive/MyDrive/ColabNotebooks/DataQAHelperWithoutLLM/requirements.txt (line 20)) (0.8.1)\n",
            "Requirement already satisfied: parso<0.9.0,>=0.8.3 in /usr/local/lib/python3.10/dist-packages (from jedi>=0.16->ipython->jupyter-dash==0.4.2->-r /content/drive/MyDrive/ColabNotebooks/DataQAHelperWithoutLLM/requirements.txt (line 10)) (0.8.4)\n",
            "Requirement already satisfied: attrs>=22.2.0 in /usr/local/lib/python3.10/dist-packages (from jsonschema>=2.6->nbformat>=4.2.0->pycaret==3.0.0->-r /content/drive/MyDrive/ColabNotebooks/DataQAHelperWithoutLLM/requirements.txt (line 20)) (23.2.0)\n",
            "Requirement already satisfied: jsonschema-specifications>=2023.03.6 in /usr/local/lib/python3.10/dist-packages (from jsonschema>=2.6->nbformat>=4.2.0->pycaret==3.0.0->-r /content/drive/MyDrive/ColabNotebooks/DataQAHelperWithoutLLM/requirements.txt (line 20)) (2023.12.1)\n",
            "Requirement already satisfied: referencing>=0.28.4 in /usr/local/lib/python3.10/dist-packages (from jsonschema>=2.6->nbformat>=4.2.0->pycaret==3.0.0->-r /content/drive/MyDrive/ColabNotebooks/DataQAHelperWithoutLLM/requirements.txt (line 20)) (0.35.1)\n",
            "Requirement already satisfied: rpds-py>=0.7.1 in /usr/local/lib/python3.10/dist-packages (from jsonschema>=2.6->nbformat>=4.2.0->pycaret==3.0.0->-r /content/drive/MyDrive/ColabNotebooks/DataQAHelperWithoutLLM/requirements.txt (line 20)) (0.18.1)\n",
            "Requirement already satisfied: platformdirs>=2.5 in /usr/local/lib/python3.10/dist-packages (from jupyter-core!=5.0.*,>=4.12->nbformat>=4.2.0->pycaret==3.0.0->-r /content/drive/MyDrive/ColabNotebooks/DataQAHelperWithoutLLM/requirements.txt (line 20)) (4.2.2)\n",
            "Requirement already satisfied: ptyprocess>=0.5 in /usr/local/lib/python3.10/dist-packages (from pexpect>4.3->ipython->jupyter-dash==0.4.2->-r /content/drive/MyDrive/ColabNotebooks/DataQAHelperWithoutLLM/requirements.txt (line 10)) (0.7.0)\n",
            "Requirement already satisfied: wcwidth in /usr/local/lib/python3.10/dist-packages (from prompt-toolkit!=3.0.0,!=3.0.1,<3.1.0,>=2.0.0->ipython->jupyter-dash==0.4.2->-r /content/drive/MyDrive/ColabNotebooks/DataQAHelperWithoutLLM/requirements.txt (line 10)) (0.2.13)\n",
            "Requirement already satisfied: notebook>=4.4.1 in /usr/local/lib/python3.10/dist-packages (from widgetsnbextension~=3.6.0->ipywidgets>=7.6.5->pycaret==3.0.0->-r /content/drive/MyDrive/ColabNotebooks/DataQAHelperWithoutLLM/requirements.txt (line 20)) (6.5.5)\n",
            "Requirement already satisfied: pyzmq>=13 in /usr/local/lib/python3.10/dist-packages (from jupyter-client->ipykernel->jupyter-dash==0.4.2->-r /content/drive/MyDrive/ColabNotebooks/DataQAHelperWithoutLLM/requirements.txt (line 10)) (24.0.1)\n",
            "Requirement already satisfied: argon2-cffi in /usr/local/lib/python3.10/dist-packages (from notebook>=4.4.1->widgetsnbextension~=3.6.0->ipywidgets>=7.6.5->pycaret==3.0.0->-r /content/drive/MyDrive/ColabNotebooks/DataQAHelperWithoutLLM/requirements.txt (line 20)) (23.1.0)\n",
            "Requirement already satisfied: nbconvert>=5 in /usr/local/lib/python3.10/dist-packages (from notebook>=4.4.1->widgetsnbextension~=3.6.0->ipywidgets>=7.6.5->pycaret==3.0.0->-r /content/drive/MyDrive/ColabNotebooks/DataQAHelperWithoutLLM/requirements.txt (line 20)) (6.5.4)\n",
            "Requirement already satisfied: Send2Trash>=1.8.0 in /usr/local/lib/python3.10/dist-packages (from notebook>=4.4.1->widgetsnbextension~=3.6.0->ipywidgets>=7.6.5->pycaret==3.0.0->-r /content/drive/MyDrive/ColabNotebooks/DataQAHelperWithoutLLM/requirements.txt (line 20)) (1.8.3)\n",
            "Requirement already satisfied: terminado>=0.8.3 in /usr/local/lib/python3.10/dist-packages (from notebook>=4.4.1->widgetsnbextension~=3.6.0->ipywidgets>=7.6.5->pycaret==3.0.0->-r /content/drive/MyDrive/ColabNotebooks/DataQAHelperWithoutLLM/requirements.txt (line 20)) (0.18.1)\n",
            "Requirement already satisfied: prometheus-client in /usr/local/lib/python3.10/dist-packages (from notebook>=4.4.1->widgetsnbextension~=3.6.0->ipywidgets>=7.6.5->pycaret==3.0.0->-r /content/drive/MyDrive/ColabNotebooks/DataQAHelperWithoutLLM/requirements.txt (line 20)) (0.20.0)\n",
            "Requirement already satisfied: nbclassic>=0.4.7 in /usr/local/lib/python3.10/dist-packages (from notebook>=4.4.1->widgetsnbextension~=3.6.0->ipywidgets>=7.6.5->pycaret==3.0.0->-r /content/drive/MyDrive/ColabNotebooks/DataQAHelperWithoutLLM/requirements.txt (line 20)) (1.1.0)\n",
            "Requirement already satisfied: notebook-shim>=0.2.3 in /usr/local/lib/python3.10/dist-packages (from nbclassic>=0.4.7->notebook>=4.4.1->widgetsnbextension~=3.6.0->ipywidgets>=7.6.5->pycaret==3.0.0->-r /content/drive/MyDrive/ColabNotebooks/DataQAHelperWithoutLLM/requirements.txt (line 20)) (0.2.4)\n",
            "Requirement already satisfied: beautifulsoup4 in /usr/local/lib/python3.10/dist-packages (from nbconvert>=5->notebook>=4.4.1->widgetsnbextension~=3.6.0->ipywidgets>=7.6.5->pycaret==3.0.0->-r /content/drive/MyDrive/ColabNotebooks/DataQAHelperWithoutLLM/requirements.txt (line 20)) (4.12.3)\n",
            "Requirement already satisfied: bleach in /usr/local/lib/python3.10/dist-packages (from nbconvert>=5->notebook>=4.4.1->widgetsnbextension~=3.6.0->ipywidgets>=7.6.5->pycaret==3.0.0->-r /content/drive/MyDrive/ColabNotebooks/DataQAHelperWithoutLLM/requirements.txt (line 20)) (6.1.0)\n",
            "Requirement already satisfied: defusedxml in /usr/local/lib/python3.10/dist-packages (from nbconvert>=5->notebook>=4.4.1->widgetsnbextension~=3.6.0->ipywidgets>=7.6.5->pycaret==3.0.0->-r /content/drive/MyDrive/ColabNotebooks/DataQAHelperWithoutLLM/requirements.txt (line 20)) (0.7.1)\n",
            "Requirement already satisfied: entrypoints>=0.2.2 in /usr/local/lib/python3.10/dist-packages (from nbconvert>=5->notebook>=4.4.1->widgetsnbextension~=3.6.0->ipywidgets>=7.6.5->pycaret==3.0.0->-r /content/drive/MyDrive/ColabNotebooks/DataQAHelperWithoutLLM/requirements.txt (line 20)) (0.4)\n",
            "Requirement already satisfied: jupyterlab-pygments in /usr/local/lib/python3.10/dist-packages (from nbconvert>=5->notebook>=4.4.1->widgetsnbextension~=3.6.0->ipywidgets>=7.6.5->pycaret==3.0.0->-r /content/drive/MyDrive/ColabNotebooks/DataQAHelperWithoutLLM/requirements.txt (line 20)) (0.3.0)\n",
            "Requirement already satisfied: mistune<2,>=0.8.1 in /usr/local/lib/python3.10/dist-packages (from nbconvert>=5->notebook>=4.4.1->widgetsnbextension~=3.6.0->ipywidgets>=7.6.5->pycaret==3.0.0->-r /content/drive/MyDrive/ColabNotebooks/DataQAHelperWithoutLLM/requirements.txt (line 20)) (0.8.4)\n",
            "Requirement already satisfied: nbclient>=0.5.0 in /usr/local/lib/python3.10/dist-packages (from nbconvert>=5->notebook>=4.4.1->widgetsnbextension~=3.6.0->ipywidgets>=7.6.5->pycaret==3.0.0->-r /content/drive/MyDrive/ColabNotebooks/DataQAHelperWithoutLLM/requirements.txt (line 20)) (0.10.0)\n",
            "Requirement already satisfied: pandocfilters>=1.4.1 in /usr/local/lib/python3.10/dist-packages (from nbconvert>=5->notebook>=4.4.1->widgetsnbextension~=3.6.0->ipywidgets>=7.6.5->pycaret==3.0.0->-r /content/drive/MyDrive/ColabNotebooks/DataQAHelperWithoutLLM/requirements.txt (line 20)) (1.5.1)\n",
            "Requirement already satisfied: tinycss2 in /usr/local/lib/python3.10/dist-packages (from nbconvert>=5->notebook>=4.4.1->widgetsnbextension~=3.6.0->ipywidgets>=7.6.5->pycaret==3.0.0->-r /content/drive/MyDrive/ColabNotebooks/DataQAHelperWithoutLLM/requirements.txt (line 20)) (1.3.0)\n",
            "Requirement already satisfied: argon2-cffi-bindings in /usr/local/lib/python3.10/dist-packages (from argon2-cffi->notebook>=4.4.1->widgetsnbextension~=3.6.0->ipywidgets>=7.6.5->pycaret==3.0.0->-r /content/drive/MyDrive/ColabNotebooks/DataQAHelperWithoutLLM/requirements.txt (line 20)) (21.2.0)\n",
            "Requirement already satisfied: jupyter-server<3,>=1.8 in /usr/local/lib/python3.10/dist-packages (from notebook-shim>=0.2.3->nbclassic>=0.4.7->notebook>=4.4.1->widgetsnbextension~=3.6.0->ipywidgets>=7.6.5->pycaret==3.0.0->-r /content/drive/MyDrive/ColabNotebooks/DataQAHelperWithoutLLM/requirements.txt (line 20)) (1.24.0)\n",
            "Requirement already satisfied: cffi>=1.0.1 in /usr/local/lib/python3.10/dist-packages (from argon2-cffi-bindings->argon2-cffi->notebook>=4.4.1->widgetsnbextension~=3.6.0->ipywidgets>=7.6.5->pycaret==3.0.0->-r /content/drive/MyDrive/ColabNotebooks/DataQAHelperWithoutLLM/requirements.txt (line 20)) (1.16.0)\n",
            "Requirement already satisfied: soupsieve>1.2 in /usr/local/lib/python3.10/dist-packages (from beautifulsoup4->nbconvert>=5->notebook>=4.4.1->widgetsnbextension~=3.6.0->ipywidgets>=7.6.5->pycaret==3.0.0->-r /content/drive/MyDrive/ColabNotebooks/DataQAHelperWithoutLLM/requirements.txt (line 20)) (2.5)\n",
            "Requirement already satisfied: webencodings in /usr/local/lib/python3.10/dist-packages (from bleach->nbconvert>=5->notebook>=4.4.1->widgetsnbextension~=3.6.0->ipywidgets>=7.6.5->pycaret==3.0.0->-r /content/drive/MyDrive/ColabNotebooks/DataQAHelperWithoutLLM/requirements.txt (line 20)) (0.5.1)\n",
            "Requirement already satisfied: pycparser in /usr/local/lib/python3.10/dist-packages (from cffi>=1.0.1->argon2-cffi-bindings->argon2-cffi->notebook>=4.4.1->widgetsnbextension~=3.6.0->ipywidgets>=7.6.5->pycaret==3.0.0->-r /content/drive/MyDrive/ColabNotebooks/DataQAHelperWithoutLLM/requirements.txt (line 20)) (2.22)\n",
            "Requirement already satisfied: anyio<4,>=3.1.0 in /usr/local/lib/python3.10/dist-packages (from jupyter-server<3,>=1.8->notebook-shim>=0.2.3->nbclassic>=0.4.7->notebook>=4.4.1->widgetsnbextension~=3.6.0->ipywidgets>=7.6.5->pycaret==3.0.0->-r /content/drive/MyDrive/ColabNotebooks/DataQAHelperWithoutLLM/requirements.txt (line 20)) (3.7.1)\n",
            "Requirement already satisfied: websocket-client in /usr/local/lib/python3.10/dist-packages (from jupyter-server<3,>=1.8->notebook-shim>=0.2.3->nbclassic>=0.4.7->notebook>=4.4.1->widgetsnbextension~=3.6.0->ipywidgets>=7.6.5->pycaret==3.0.0->-r /content/drive/MyDrive/ColabNotebooks/DataQAHelperWithoutLLM/requirements.txt (line 20)) (1.8.0)\n",
            "Requirement already satisfied: sniffio>=1.1 in /usr/local/lib/python3.10/dist-packages (from anyio<4,>=3.1.0->jupyter-server<3,>=1.8->notebook-shim>=0.2.3->nbclassic>=0.4.7->notebook>=4.4.1->widgetsnbextension~=3.6.0->ipywidgets>=7.6.5->pycaret==3.0.0->-r /content/drive/MyDrive/ColabNotebooks/DataQAHelperWithoutLLM/requirements.txt (line 20)) (1.3.1)\n",
            "Requirement already satisfied: exceptiongroup in /usr/local/lib/python3.10/dist-packages (from anyio<4,>=3.1.0->jupyter-server<3,>=1.8->notebook-shim>=0.2.3->nbclassic>=0.4.7->notebook>=4.4.1->widgetsnbextension~=3.6.0->ipywidgets>=7.6.5->pycaret==3.0.0->-r /content/drive/MyDrive/ColabNotebooks/DataQAHelperWithoutLLM/requirements.txt (line 20)) (1.2.1)\n"
          ]
        }
      ]
    },
    {
      "cell_type": "code",
      "source": [
        "# Because the version of Colab is updated, some packages must be upgraded. There may be an error reminder, but it has no effect on the use of the framework in Colab. There is no such issue when using the framework locally after downloading it.\n",
        "!pip install pandas==2.0.0\n",
        "!pip install scipy==1.8.0"
      ],
      "metadata": {
        "id": "C6RULYC18KCJ",
        "colab": {
          "base_uri": "https://localhost:8080/"
        },
        "outputId": "ccf34114-6847-4551-9ce4-ca0f304d4057"
      },
      "execution_count": 2,
      "outputs": [
        {
          "output_type": "stream",
          "name": "stdout",
          "text": [
            "Collecting pandas==2.0.0\n",
            "  Using cached pandas-2.0.0-cp310-cp310-manylinux_2_17_x86_64.manylinux2014_x86_64.whl.metadata (18 kB)\n",
            "Requirement already satisfied: python-dateutil>=2.8.2 in /usr/local/lib/python3.10/dist-packages (from pandas==2.0.0) (2.8.2)\n",
            "Requirement already satisfied: pytz>=2020.1 in /usr/local/lib/python3.10/dist-packages (from pandas==2.0.0) (2024.1)\n",
            "Requirement already satisfied: tzdata>=2022.1 in /usr/local/lib/python3.10/dist-packages (from pandas==2.0.0) (2024.1)\n",
            "Requirement already satisfied: numpy>=1.21.0 in /usr/local/lib/python3.10/dist-packages (from pandas==2.0.0) (1.23.5)\n",
            "Requirement already satisfied: six>=1.5 in /usr/local/lib/python3.10/dist-packages (from python-dateutil>=2.8.2->pandas==2.0.0) (1.16.0)\n",
            "Using cached pandas-2.0.0-cp310-cp310-manylinux_2_17_x86_64.manylinux2014_x86_64.whl (12.3 MB)\n",
            "Installing collected packages: pandas\n",
            "  Attempting uninstall: pandas\n",
            "    Found existing installation: pandas 1.5.3\n",
            "    Uninstalling pandas-1.5.3:\n",
            "      Successfully uninstalled pandas-1.5.3\n",
            "\u001b[31mERROR: pip's dependency resolver does not currently take into account all the packages that are installed. This behaviour is the source of the following dependency conflicts.\n",
            "arviz 0.18.0 requires scipy>=1.9.0, but you have scipy 1.8.0 which is incompatible.\n",
            "google-colab 1.0.0 requires pandas==2.1.4, but you have pandas 2.0.0 which is incompatible.\n",
            "plotnine 0.12.4 requires statsmodels>=0.14.0, but you have statsmodels 0.13.5 which is incompatible.\n",
            "pycaret 3.0.0 requires pandas<1.6.0,>=1.3.0, but you have pandas 2.0.0 which is incompatible.\u001b[0m\u001b[31m\n",
            "\u001b[0mSuccessfully installed pandas-2.0.0\n",
            "Requirement already satisfied: scipy==1.8.0 in /usr/local/lib/python3.10/dist-packages (1.8.0)\n",
            "Requirement already satisfied: numpy<1.25.0,>=1.17.3 in /usr/local/lib/python3.10/dist-packages (from scipy==1.8.0) (1.23.5)\n"
          ]
        }
      ]
    },

    {
      "cell_type": "markdown",
      "id": "fb66e98d",
      "metadata": {
        "id": "fb66e98d"
      },
      "source": [
        "# 🚀 Quick start"
      ]
    },
    {
      "cell_type": "markdown",
      "id": "00347d44",
      "metadata": {
        "id": "00347d44"
      },
      "source": [
        "The integrated pipelines in DataQAHelper support most supervised machine learning modules used to estimate the relationships between a dependent variable (outcome or target) and one or more independent variables (features, predictors, or covariates). The integrated pipelines in DataQAHelper support most supervised machine learning modules, including many models used for regression and classification. The objective of regression is to predict continuous values such as sales amounts, quantities, temperatures, etc. The goal of classification is to predict categorical class labels, which can be either multiclass, such as species types, or binary, such as whether a disease is present.\n",
        "\n",
        "A typical workflow in DataQAHelper application development consists of the following three steps in order:\n",
        "\n",
        "## **Rapid Prototyping** ➡️ **Reviewing Analysis Results** ➡️ **Iterative Prototype Updates**"
      ]
    },
    {
      "cell_type": "markdown",
      "metadata": {
        "id": "_BhWxAvLlX1G"
      },
      "source": [
        "## Example 1\n",
        "\n",
        "The following example shows how to quickly build an application based on the framework to use a logistic regression model to quickly explore a classic dataset - the diabetes dataset.\n",
        "\n",
        "The analysis results of the logistic regression model are not intuitive.\n",
        "\n",
        "There are many criteria for judging the quality of a logistic regression model.\n",
        "\n",
        "There are also differences in the interpretation of the coefficients of the independent variables.\n",
        "\n",
        "At the same time, according to different requirements, the P-value may also need to be considered."
      ],
      "id": "_BhWxAvLlX1G"
    },
    {
      "cell_type": "code",
      "execution_count": 3,
      "id": "956dfdab",
      "metadata": {
        "id": "956dfdab"
      },
      "outputs": [],
      "source": [
        "# Read dataset\n",
        "from pandas import read_csv\n",
        "data=read_csv('/content/drive/MyDrive/ColabNotebooks/DataQAHelperWithoutLLM/data/diabetesWithhead.csv',header=0)\n",
        "# Setting independent and dependent variables\n",
        "Xcol=['Pregnancies','Glucose','BloodPressure','SkinThickness','Insulin','BMI','DiabetesPedigreeFunction','Age']\n",
        "ycol='Classification'"
      ]
    },
    {
      "cell_type": "code",
      "execution_count": 4,
      "id": "97f2c6c6",
      "metadata": {
        "id": "97f2c6c6",
        "outputId": "615acab8-4ad7-4ffa-d843-91b2d17fec3a",
        "colab": {
          "base_uri": "https://localhost:8080/",
          "height": 815
        }
      },
      "outputs": [
        {
          "output_type": "stream",
          "name": "stdout",
          "text": [
            "Optimization terminated successfully.\n",
            "         Current function value: 0.622858\n",
            "         Iterations 5\n",
            "Dash is running on http://127.0.0.1:8050/\n",
            "\n"
          ]
        },
        {
          "output_type": "stream",
          "name": "stderr",
          "text": [
            "INFO:dash.dash:Dash is running on http://127.0.0.1:8050/\n",
            "\n"
          ]
        },
        {
          "output_type": "display_data",
          "data": {
            "text/plain": [
              "<IPython.core.display.Javascript object>"
            ],
            "application/javascript": [
              "(async (port, path, width, height, cache, element) => {\n",
              "    if (!google.colab.kernel.accessAllowed && !cache) {\n",
              "      return;\n",
              "    }\n",
              "    element.appendChild(document.createTextNode(''));\n",
              "    const url = await google.colab.kernel.proxyPort(port, {cache});\n",
              "    const iframe = document.createElement('iframe');\n",
              "    iframe.src = new URL(path, url).toString();\n",
              "    iframe.height = height;\n",
              "    iframe.width = width;\n",
              "    iframe.style.border = 0;\n",
              "    iframe.allow = [\n",
              "        'accelerometer',\n",
              "        'autoplay',\n",
              "        'camera',\n",
              "        'clipboard-read',\n",
              "        'clipboard-write',\n",
              "        'gyroscope',\n",
              "        'magnetometer',\n",
              "        'microphone',\n",
              "        'serial',\n",
              "        'usb',\n",
              "        'xr-spatial-tracking',\n",
              "    ].join('; ');\n",
              "    element.appendChild(iframe);\n",
              "  })(8050, \"/\", \"100%\", 650, false, window.element)"
            ]
          },
          "metadata": {}
        },
        {
          "output_type": "display_data",
          "data": {
            "text/plain": [
              "<Figure size 800x550 with 0 Axes>"
            ]
          },
          "metadata": {}
        }
      ],
      "source": [
        "# import IntegratedPipelines\n",
        "import IntegratedPipelines as IP\n",
        "## Running the pipeline as the prototype, and review the analysis results.\n",
        "pipeline = IP.general_datastory_pipeline()\n",
        "pipeline.LogisticFit(data, Xcol, ycol)"
      ]
    },
    {
      "cell_type": "code",
      "source": [
        "## After review the FAQ-like reports above, making any necessary updates to the prototype.\n",
        "## The examples below show some minor updates.\n",
        "## Users also can modify the DataScienceComponents.py or NLGComponents.py to add more functionality or directly refine templates.\n",
        "\n",
        "# Make the independent variables more readable.\n",
        "Xnewname = ['Number of Pregnancies', 'Glucose Level', 'Blood Pressure', 'Skin Thickness', 'Insulin Level', 'Body Mass Index (BMI)', 'Diabetes Pedigree Function', 'Age']\n",
        "# Give meaning to positive classification results.\n",
        "pos_class_mean='the individual has been diagnosed with diabetes'\n",
        "# Running the application again to check the better results.\n",
        "pipeline.LogisticFit(data, Xcol, ycol,Xnewname=Xnewname,pos_class_mean=pos_class_mean)"
      ],
      "metadata": {
        "colab": {
          "base_uri": "https://localhost:8080/",
          "height": 815
        },
        "id": "dqrKKQcVmWbw",
        "outputId": "399911a9-2f84-470e-dc43-b8b8c8a25c3e"
      },
      "id": "dqrKKQcVmWbw",
      "execution_count": 5,
      "outputs": [
        {
          "output_type": "stream",
          "name": "stdout",
          "text": [
            "Optimization terminated successfully.\n",
            "         Current function value: 0.622858\n",
            "         Iterations 5\n",
            "Dash is running on http://127.0.0.1:8050/\n",
            "\n"
          ]
        },
        {
          "output_type": "stream",
          "name": "stderr",
          "text": [
            "INFO:dash.dash:Dash is running on http://127.0.0.1:8050/\n",
            "\n"
          ]
        },
        {
          "output_type": "display_data",
          "data": {
            "text/plain": [
              "<IPython.core.display.Javascript object>"
            ],
            "application/javascript": [
              "(async (port, path, width, height, cache, element) => {\n",
              "    if (!google.colab.kernel.accessAllowed && !cache) {\n",
              "      return;\n",
              "    }\n",
              "    element.appendChild(document.createTextNode(''));\n",
              "    const url = await google.colab.kernel.proxyPort(port, {cache});\n",
              "    const iframe = document.createElement('iframe');\n",
              "    iframe.src = new URL(path, url).toString();\n",
              "    iframe.height = height;\n",
              "    iframe.width = width;\n",
              "    iframe.style.border = 0;\n",
              "    iframe.allow = [\n",
              "        'accelerometer',\n",
              "        'autoplay',\n",
              "        'camera',\n",
              "        'clipboard-read',\n",
              "        'clipboard-write',\n",
              "        'gyroscope',\n",
              "        'magnetometer',\n",
              "        'microphone',\n",
              "        'serial',\n",
              "        'usb',\n",
              "        'xr-spatial-tracking',\n",
              "    ].join('; ');\n",
              "    element.appendChild(iframe);\n",
              "  })(8050, \"/\", \"100%\", 650, false, window.element)"
            ]
          },
          "metadata": {}
        },
        {
          "output_type": "display_data",
          "data": {
            "text/plain": [
              "<Figure size 800x550 with 0 Axes>"
            ]
          },
          "metadata": {}
        }
      ]
    },
    {
      "cell_type": "markdown",
      "source": [
        "## Example 2\n",
        "\n",
        "Another example to show the domain independence, generality and reusability of these predefined pipelines.\n",
        "\n",
        "And demonstrate the functions in the data science component that can be used to assist in data preprocessing.\n",
        "\n",
        "The dataset used is lending club data. The following examples will use the same logistic regression model and the same predefined pipeline as Example 1 to explore how different factors affect whether a loan is likely to default (this dataset is nearly 400,000 rows, and it will take more time to run all data)."
      ],
      "metadata": {
        "id": "nTVUkTkMoXIT"
      },
      "id": "nTVUkTkMoXIT"
    },
    {
      "cell_type": "code",
      "source": [
        "# Read dataset\n",
        "data = read_csv('/content/drive/MyDrive/ColabNotebooks/DataQAHelperWithoutLLM/data/lending_club_loan_two.csv',header=0)\n",
        "# In order to quickly show the example, only the first 1000 rows of data are processed.\n",
        "# If you want to process all the data, you can comment out the following line.\n",
        "data = data.head(1000)"
      ],
      "metadata": {
        "id": "lUEr-hAtob9u"
      },
      "id": "lUEr-hAtob9u",
      "execution_count": 6,
      "outputs": []
    },
    {
      "cell_type": "code",
      "source": [
        "# Import functions from the data science component to assist with data preprocessing.\n",
        "import DataScienceComponents as DC\n",
        "import numpy as np\n",
        "data=DC.DataEngineering().set_date_columns_to_datetime(data,['earliest_cr_line', 'issue_d'])\n",
        "data=DC.DataEngineering().set_values_to_0_and_1(data,'loan_status',['Fully Paid', 'Current', 'Does not meet the credit policy. Status:Fully Paid'])\n",
        "data=DC.DataEngineering().set_values_to_0_and_1(data,'term',' 36 months')\n",
        "data['credit_hist_in_months'] = ((data['issue_d'] - data['earliest_cr_line'])/np.timedelta64(1, 'M')).astype(int)\n",
        "data['cb_person_bk_on_file_Y'] = data['pub_rec_bankruptcies'].apply(lambda x: 1 if x >= 1 else 0)"
      ],
      "metadata": {
        "id": "xAwn-VDWwkOp"
      },
      "id": "xAwn-VDWwkOp",
      "execution_count": 7,
      "outputs": []
    },
    {
      "cell_type": "code",
      "source": [
        "# Setting independent and dependent variables\n",
        "Xcol=['credit_hist_in_months','cb_person_bk_on_file_Y','annual_inc','dti','loan_amnt','int_rate','term']\n",
        "ycol='loan_status'\n",
        "# Optional: Make the independent variables more readable. Give meaning to positive classification results.\n",
        "Xnewname=['length of credit history','personal bankruptcy','annual income','debt-to-income ratio','loan amount','interest rate','loan term']\n",
        "pos_class_mean='the loan has problems or is in default'"
      ],
      "metadata": {
        "id": "Ym0INvRfw3MH"
      },
      "id": "Ym0INvRfw3MH",
      "execution_count": 8,
      "outputs": []
    },
    {
      "cell_type": "code",
      "source": [
        "# Running the pipeline.\n",
        "pipeline = IP.general_datastory_pipeline()\n",
        "pipeline.LogisticFit(data, Xcol, ycol,Xnewname=Xnewname,pos_class_mean=pos_class_mean)"
      ],
      "metadata": {
        "colab": {
          "base_uri": "https://localhost:8080/",
          "height": 815
        },
        "id": "CB4hTH8Mw4_j",
        "outputId": "a4249132-8ddb-4e10-e80c-ab32b84003ee"
      },
      "id": "CB4hTH8Mw4_j",
      "execution_count": 9,
      "outputs": [
        {
          "output_type": "stream",
          "name": "stdout",
          "text": [
            "Optimization terminated successfully.\n",
            "         Current function value: 0.468862\n",
            "         Iterations 6\n",
            "Dash is running on http://127.0.0.1:8050/\n",
            "\n"
          ]
        },
        {
          "output_type": "stream",
          "name": "stderr",
          "text": [
            "INFO:dash.dash:Dash is running on http://127.0.0.1:8050/\n",
            "\n"
          ]
        },
        {
          "output_type": "display_data",
          "data": {
            "text/plain": [
              "<IPython.core.display.Javascript object>"
            ],
            "application/javascript": [
              "(async (port, path, width, height, cache, element) => {\n",
              "    if (!google.colab.kernel.accessAllowed && !cache) {\n",
              "      return;\n",
              "    }\n",
              "    element.appendChild(document.createTextNode(''));\n",
              "    const url = await google.colab.kernel.proxyPort(port, {cache});\n",
              "    const iframe = document.createElement('iframe');\n",
              "    iframe.src = new URL(path, url).toString();\n",
              "    iframe.height = height;\n",
              "    iframe.width = width;\n",
              "    iframe.style.border = 0;\n",
              "    iframe.allow = [\n",
              "        'accelerometer',\n",
              "        'autoplay',\n",
              "        'camera',\n",
              "        'clipboard-read',\n",
              "        'clipboard-write',\n",
              "        'gyroscope',\n",
              "        'magnetometer',\n",
              "        'microphone',\n",
              "        'serial',\n",
              "        'usb',\n",
              "        'xr-spatial-tracking',\n",
              "    ].join('; ');\n",
              "    element.appendChild(iframe);\n",
              "  })(8050, \"/\", \"100%\", 650, false, window.element)"
            ]
          },
          "metadata": {}
        },
        {
          "output_type": "display_data",
          "data": {
            "text/plain": [
              "<Figure size 800x550 with 0 Axes>"
            ]
          },
          "metadata": {}
        }
      ]
    }
  ],
  "metadata": {
    "kernelspec": {
      "display_name": "Python 3",
      "name": "python3"
    },
    "language_info": {
      "name": "python"
    },
    "colab": {
      "provenance": []
    }
  },
  "nbformat": 4,
  "nbformat_minor": 5
}
