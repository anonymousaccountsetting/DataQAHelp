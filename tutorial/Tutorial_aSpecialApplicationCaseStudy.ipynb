{
  "nbformat": 4,
  "nbformat_minor": 0,
  "metadata": {
    "colab": {
      "provenance": []
    },
    "kernelspec": {
      "name": "python3",
      "display_name": "Python 3"
    },
    "language_info": {
      "name": "python"
    }
  },
  "cells": [
    {
      "cell_type": "markdown",
      "source": [
        "# Case study for Drug-related deaths in Scotland Services\n",
        "\n",
        "This case study is based on the quarterly report of Drug-related deaths in Scotland services. It showcases an application based on the DataQAHelper framework that has completed the refinement cycle. The application only requires users to set the correct dataset path and specify the necessary column names to automatically generate a data report. This report covers most of the key data-related questions.\n",
        "You can download DataQAHelper from GitHub to run the case study.\n",
        "If you are working on Colab, here are some commands to run the case study (Please note the folder name, the folder name used here is DataQAHelperWithoutLLM):\n"
      ],
      "metadata": {
        "id": "PRsi6tD5xW1l"
      }
    },
    {
      "cell_type": "code",
      "execution_count": 1,
      "metadata": {
        "colab": {
          "base_uri": "https://localhost:8080/"
        },
        "id": "CGDckDaq70lc",
        "outputId": "5f0e9cc5-33a2-444d-e7fd-352bdf3360b0"
      },
      "outputs": [
        {
          "output_type": "stream",
          "name": "stdout",
          "text": [
            "Drive already mounted at /content/drive; to attempt to forcibly remount, call drive.mount(\"/content/drive\", force_remount=True).\n",
            "Requirement already satisfied: numpy==1.23.5 in /usr/local/lib/python3.10/dist-packages (from -r /content/drive/MyDrive/ColabNotebooks/DataQAHelperWithoutLLM/requirements.txt (line 1)) (1.23.5)\n",
            "Requirement already satisfied: seaborn==0.12.2 in /usr/local/lib/python3.10/dist-packages (from -r /content/drive/MyDrive/ColabNotebooks/DataQAHelperWithoutLLM/requirements.txt (line 2)) (0.12.2)\n",
            "Requirement already satisfied: pandas==1.5.3 in /usr/local/lib/python3.10/dist-packages (from -r /content/drive/MyDrive/ColabNotebooks/DataQAHelperWithoutLLM/requirements.txt (line 3)) (1.5.3)\n",
            "Requirement already satisfied: matplotlib==3.7.1 in /usr/local/lib/python3.10/dist-packages (from -r /content/drive/MyDrive/ColabNotebooks/DataQAHelperWithoutLLM/requirements.txt (line 4)) (3.7.1)\n",
            "Requirement already satisfied: matplotlib-inline==0.1.6 in /usr/local/lib/python3.10/dist-packages (from -r /content/drive/MyDrive/ColabNotebooks/DataQAHelperWithoutLLM/requirements.txt (line 5)) (0.1.6)\n",
            "Requirement already satisfied: scikit-learn==1.2.2 in /usr/local/lib/python3.10/dist-packages (from -r /content/drive/MyDrive/ColabNotebooks/DataQAHelperWithoutLLM/requirements.txt (line 6)) (1.2.2)\n",
            "Requirement already satisfied: scikit-plot==0.3.7 in /usr/local/lib/python3.10/dist-packages (from -r /content/drive/MyDrive/ColabNotebooks/DataQAHelperWithoutLLM/requirements.txt (line 7)) (0.3.7)\n",
            "Requirement already satisfied: statsmodels==0.13.5 in /usr/local/lib/python3.10/dist-packages (from -r /content/drive/MyDrive/ColabNotebooks/DataQAHelperWithoutLLM/requirements.txt (line 8)) (0.13.5)\n",
            "Requirement already satisfied: Jinja2==3.1.2 in /usr/local/lib/python3.10/dist-packages (from -r /content/drive/MyDrive/ColabNotebooks/DataQAHelperWithoutLLM/requirements.txt (line 9)) (3.1.2)\n",
            "Requirement already satisfied: jupyter-dash==0.4.2 in /usr/local/lib/python3.10/dist-packages (from -r /content/drive/MyDrive/ColabNotebooks/DataQAHelperWithoutLLM/requirements.txt (line 10)) (0.4.2)\n",
            "Requirement already satisfied: dash==2.9.1 in /usr/local/lib/python3.10/dist-packages (from -r /content/drive/MyDrive/ColabNotebooks/DataQAHelperWithoutLLM/requirements.txt (line 11)) (2.9.1)\n",
            "Requirement already satisfied: dash-bootstrap-components==1.4.1 in /usr/local/lib/python3.10/dist-packages (from -r /content/drive/MyDrive/ColabNotebooks/DataQAHelperWithoutLLM/requirements.txt (line 12)) (1.4.1)\n",
            "Requirement already satisfied: dash-core-components==2.0.0 in /usr/local/lib/python3.10/dist-packages (from -r /content/drive/MyDrive/ColabNotebooks/DataQAHelperWithoutLLM/requirements.txt (line 13)) (2.0.0)\n",
            "Requirement already satisfied: dash-html-components==2.0.0 in /usr/local/lib/python3.10/dist-packages (from -r /content/drive/MyDrive/ColabNotebooks/DataQAHelperWithoutLLM/requirements.txt (line 14)) (2.0.0)\n",
            "Requirement already satisfied: dash-table==5.0.0 in /usr/local/lib/python3.10/dist-packages (from -r /content/drive/MyDrive/ColabNotebooks/DataQAHelperWithoutLLM/requirements.txt (line 15)) (5.0.0)\n",
            "Requirement already satisfied: plotly==5.13.1 in /usr/local/lib/python3.10/dist-packages (from -r /content/drive/MyDrive/ColabNotebooks/DataQAHelperWithoutLLM/requirements.txt (line 16)) (5.13.1)\n",
            "Requirement already satisfied: language-tool-python==2.7.1 in /usr/local/lib/python3.10/dist-packages (from -r /content/drive/MyDrive/ColabNotebooks/DataQAHelperWithoutLLM/requirements.txt (line 17)) (2.7.1)\n",
            "Requirement already satisfied: iteration-utilities==0.11.0 in /usr/local/lib/python3.10/dist-packages (from -r /content/drive/MyDrive/ColabNotebooks/DataQAHelperWithoutLLM/requirements.txt (line 18)) (0.11.0)\n",
            "Requirement already satisfied: pwlf==2.2.1 in /usr/local/lib/python3.10/dist-packages (from -r /content/drive/MyDrive/ColabNotebooks/DataQAHelperWithoutLLM/requirements.txt (line 19)) (2.2.1)\n",
            "Requirement already satisfied: pycaret==3.0.0 in /usr/local/lib/python3.10/dist-packages (from -r /content/drive/MyDrive/ColabNotebooks/DataQAHelperWithoutLLM/requirements.txt (line 20)) (3.0.0)\n",
            "Requirement already satisfied: joblib==1.2.0 in /usr/local/lib/python3.10/dist-packages (from -r /content/drive/MyDrive/ColabNotebooks/DataQAHelperWithoutLLM/requirements.txt (line 21)) (1.2.0)\n",
            "Requirement already satisfied: opencv-python==4.7.0.72 in /usr/local/lib/python3.10/dist-packages (from -r /content/drive/MyDrive/ColabNotebooks/DataQAHelperWithoutLLM/requirements.txt (line 22)) (4.7.0.72)\n",
            "Requirement already satisfied: python-docx==0.8.11 in /usr/local/lib/python3.10/dist-packages (from -r /content/drive/MyDrive/ColabNotebooks/DataQAHelperWithoutLLM/requirements.txt (line 23)) (0.8.11)\n",
            "Requirement already satisfied: shap==0.41.0 in /usr/local/lib/python3.10/dist-packages (from -r /content/drive/MyDrive/ColabNotebooks/DataQAHelperWithoutLLM/requirements.txt (line 24)) (0.41.0)\n",
            "Requirement already satisfied: python-dateutil>=2.8.1 in /usr/local/lib/python3.10/dist-packages (from pandas==1.5.3->-r /content/drive/MyDrive/ColabNotebooks/DataQAHelperWithoutLLM/requirements.txt (line 3)) (2.8.2)\n",
            "Requirement already satisfied: pytz>=2020.1 in /usr/local/lib/python3.10/dist-packages (from pandas==1.5.3->-r /content/drive/MyDrive/ColabNotebooks/DataQAHelperWithoutLLM/requirements.txt (line 3)) (2024.1)\n",
            "Requirement already satisfied: contourpy>=1.0.1 in /usr/local/lib/python3.10/dist-packages (from matplotlib==3.7.1->-r /content/drive/MyDrive/ColabNotebooks/DataQAHelperWithoutLLM/requirements.txt (line 4)) (1.2.1)\n",
            "Requirement already satisfied: cycler>=0.10 in /usr/local/lib/python3.10/dist-packages (from matplotlib==3.7.1->-r /content/drive/MyDrive/ColabNotebooks/DataQAHelperWithoutLLM/requirements.txt (line 4)) (0.12.1)\n",
            "Requirement already satisfied: fonttools>=4.22.0 in /usr/local/lib/python3.10/dist-packages (from matplotlib==3.7.1->-r /content/drive/MyDrive/ColabNotebooks/DataQAHelperWithoutLLM/requirements.txt (line 4)) (4.53.1)\n",
            "Requirement already satisfied: kiwisolver>=1.0.1 in /usr/local/lib/python3.10/dist-packages (from matplotlib==3.7.1->-r /content/drive/MyDrive/ColabNotebooks/DataQAHelperWithoutLLM/requirements.txt (line 4)) (1.4.5)\n",
            "Requirement already satisfied: packaging>=20.0 in /usr/local/lib/python3.10/dist-packages (from matplotlib==3.7.1->-r /content/drive/MyDrive/ColabNotebooks/DataQAHelperWithoutLLM/requirements.txt (line 4)) (24.1)\n",
            "Requirement already satisfied: pillow>=6.2.0 in /usr/local/lib/python3.10/dist-packages (from matplotlib==3.7.1->-r /content/drive/MyDrive/ColabNotebooks/DataQAHelperWithoutLLM/requirements.txt (line 4)) (9.4.0)\n",
            "Requirement already satisfied: pyparsing>=2.3.1 in /usr/local/lib/python3.10/dist-packages (from matplotlib==3.7.1->-r /content/drive/MyDrive/ColabNotebooks/DataQAHelperWithoutLLM/requirements.txt (line 4)) (3.1.2)\n",
            "Requirement already satisfied: traitlets in /usr/local/lib/python3.10/dist-packages (from matplotlib-inline==0.1.6->-r /content/drive/MyDrive/ColabNotebooks/DataQAHelperWithoutLLM/requirements.txt (line 5)) (5.7.1)\n",
            "Requirement already satisfied: scipy>=1.3.2 in /usr/local/lib/python3.10/dist-packages (from scikit-learn==1.2.2->-r /content/drive/MyDrive/ColabNotebooks/DataQAHelperWithoutLLM/requirements.txt (line 6)) (1.8.0)\n",
            "Requirement already satisfied: threadpoolctl>=2.0.0 in /usr/local/lib/python3.10/dist-packages (from scikit-learn==1.2.2->-r /content/drive/MyDrive/ColabNotebooks/DataQAHelperWithoutLLM/requirements.txt (line 6)) (3.5.0)\n",
            "Requirement already satisfied: patsy>=0.5.2 in /usr/local/lib/python3.10/dist-packages (from statsmodels==0.13.5->-r /content/drive/MyDrive/ColabNotebooks/DataQAHelperWithoutLLM/requirements.txt (line 8)) (0.5.6)\n",
            "Requirement already satisfied: MarkupSafe>=2.0 in /usr/local/lib/python3.10/dist-packages (from Jinja2==3.1.2->-r /content/drive/MyDrive/ColabNotebooks/DataQAHelperWithoutLLM/requirements.txt (line 9)) (2.1.5)\n",
            "Requirement already satisfied: requests in /usr/local/lib/python3.10/dist-packages (from jupyter-dash==0.4.2->-r /content/drive/MyDrive/ColabNotebooks/DataQAHelperWithoutLLM/requirements.txt (line 10)) (2.32.3)\n",
            "Requirement already satisfied: flask in /usr/local/lib/python3.10/dist-packages (from jupyter-dash==0.4.2->-r /content/drive/MyDrive/ColabNotebooks/DataQAHelperWithoutLLM/requirements.txt (line 10)) (2.2.5)\n",
            "Requirement already satisfied: retrying in /usr/local/lib/python3.10/dist-packages (from jupyter-dash==0.4.2->-r /content/drive/MyDrive/ColabNotebooks/DataQAHelperWithoutLLM/requirements.txt (line 10)) (1.3.4)\n",
            "Requirement already satisfied: ipython in /usr/local/lib/python3.10/dist-packages (from jupyter-dash==0.4.2->-r /content/drive/MyDrive/ColabNotebooks/DataQAHelperWithoutLLM/requirements.txt (line 10)) (7.34.0)\n",
            "Requirement already satisfied: ipykernel in /usr/local/lib/python3.10/dist-packages (from jupyter-dash==0.4.2->-r /content/drive/MyDrive/ColabNotebooks/DataQAHelperWithoutLLM/requirements.txt (line 10)) (5.5.6)\n",
            "Requirement already satisfied: ansi2html in /usr/local/lib/python3.10/dist-packages (from jupyter-dash==0.4.2->-r /content/drive/MyDrive/ColabNotebooks/DataQAHelperWithoutLLM/requirements.txt (line 10)) (1.9.2)\n",
            "Requirement already satisfied: nest-asyncio in /usr/local/lib/python3.10/dist-packages (from jupyter-dash==0.4.2->-r /content/drive/MyDrive/ColabNotebooks/DataQAHelperWithoutLLM/requirements.txt (line 10)) (1.6.0)\n",
            "Requirement already satisfied: tenacity>=6.2.0 in /usr/local/lib/python3.10/dist-packages (from plotly==5.13.1->-r /content/drive/MyDrive/ColabNotebooks/DataQAHelperWithoutLLM/requirements.txt (line 16)) (9.0.0)\n",
            "Requirement already satisfied: tqdm in /usr/local/lib/python3.10/dist-packages (from language-tool-python==2.7.1->-r /content/drive/MyDrive/ColabNotebooks/DataQAHelperWithoutLLM/requirements.txt (line 17)) (4.66.5)\n",
            "Requirement already satisfied: pyDOE>=0.3.8 in /usr/local/lib/python3.10/dist-packages (from pwlf==2.2.1->-r /content/drive/MyDrive/ColabNotebooks/DataQAHelperWithoutLLM/requirements.txt (line 19)) (0.3.8)\n",
            "Requirement already satisfied: ipywidgets>=7.6.5 in /usr/local/lib/python3.10/dist-packages (from pycaret==3.0.0->-r /content/drive/MyDrive/ColabNotebooks/DataQAHelperWithoutLLM/requirements.txt (line 20)) (7.7.1)\n",
            "Requirement already satisfied: pyod>=1.0.8 in /usr/local/lib/python3.10/dist-packages (from pycaret==3.0.0->-r /content/drive/MyDrive/ColabNotebooks/DataQAHelperWithoutLLM/requirements.txt (line 20)) (2.0.1)\n",
            "Requirement already satisfied: imbalanced-learn>=0.8.1 in /usr/local/lib/python3.10/dist-packages (from pycaret==3.0.0->-r /content/drive/MyDrive/ColabNotebooks/DataQAHelperWithoutLLM/requirements.txt (line 20)) (0.12.3)\n",
            "Requirement already satisfied: category-encoders>=2.4.0 in /usr/local/lib/python3.10/dist-packages (from pycaret==3.0.0->-r /content/drive/MyDrive/ColabNotebooks/DataQAHelperWithoutLLM/requirements.txt (line 20)) (2.6.3)\n",
            "Requirement already satisfied: lightgbm>=3.0.0 in /usr/local/lib/python3.10/dist-packages (from pycaret==3.0.0->-r /content/drive/MyDrive/ColabNotebooks/DataQAHelperWithoutLLM/requirements.txt (line 20)) (4.4.0)\n",
            "Requirement already satisfied: numba>=0.55.0 in /usr/local/lib/python3.10/dist-packages (from pycaret==3.0.0->-r /content/drive/MyDrive/ColabNotebooks/DataQAHelperWithoutLLM/requirements.txt (line 20)) (0.60.0)\n",
            "Requirement already satisfied: psutil>=5.9.0 in /usr/local/lib/python3.10/dist-packages (from pycaret==3.0.0->-r /content/drive/MyDrive/ColabNotebooks/DataQAHelperWithoutLLM/requirements.txt (line 20)) (5.9.5)\n",
            "Requirement already satisfied: importlib-metadata>=4.12.0 in /usr/local/lib/python3.10/dist-packages (from pycaret==3.0.0->-r /content/drive/MyDrive/ColabNotebooks/DataQAHelperWithoutLLM/requirements.txt (line 20)) (8.4.0)\n",
            "Requirement already satisfied: nbformat>=4.2.0 in /usr/local/lib/python3.10/dist-packages (from pycaret==3.0.0->-r /content/drive/MyDrive/ColabNotebooks/DataQAHelperWithoutLLM/requirements.txt (line 20)) (5.10.4)\n",
            "Requirement already satisfied: cloudpickle in /usr/local/lib/python3.10/dist-packages (from pycaret==3.0.0->-r /content/drive/MyDrive/ColabNotebooks/DataQAHelperWithoutLLM/requirements.txt (line 20)) (2.2.1)\n",
            "Requirement already satisfied: deprecation>=2.1.0 in /usr/local/lib/python3.10/dist-packages (from pycaret==3.0.0->-r /content/drive/MyDrive/ColabNotebooks/DataQAHelperWithoutLLM/requirements.txt (line 20)) (2.1.0)\n",
            "Requirement already satisfied: xxhash in /usr/local/lib/python3.10/dist-packages (from pycaret==3.0.0->-r /content/drive/MyDrive/ColabNotebooks/DataQAHelperWithoutLLM/requirements.txt (line 20)) (3.5.0)\n",
            "Requirement already satisfied: yellowbrick>=1.4 in /usr/local/lib/python3.10/dist-packages (from pycaret==3.0.0->-r /content/drive/MyDrive/ColabNotebooks/DataQAHelperWithoutLLM/requirements.txt (line 20)) (1.5)\n",
            "Requirement already satisfied: kaleido>=0.2.1 in /usr/local/lib/python3.10/dist-packages (from pycaret==3.0.0->-r /content/drive/MyDrive/ColabNotebooks/DataQAHelperWithoutLLM/requirements.txt (line 20)) (0.2.1)\n",
            "Requirement already satisfied: schemdraw>=0.14 in /usr/local/lib/python3.10/dist-packages (from pycaret==3.0.0->-r /content/drive/MyDrive/ColabNotebooks/DataQAHelperWithoutLLM/requirements.txt (line 20)) (0.19)\n",
            "Requirement already satisfied: plotly-resampler>=0.8.3.1 in /usr/local/lib/python3.10/dist-packages (from pycaret==3.0.0->-r /content/drive/MyDrive/ColabNotebooks/DataQAHelperWithoutLLM/requirements.txt (line 20)) (0.10.0)\n",
            "Requirement already satisfied: sktime>=0.16.1 in /usr/local/lib/python3.10/dist-packages (from pycaret==3.0.0->-r /content/drive/MyDrive/ColabNotebooks/DataQAHelperWithoutLLM/requirements.txt (line 20)) (0.32.1)\n",
            "Requirement already satisfied: tbats>=1.1.0 in /usr/local/lib/python3.10/dist-packages (from pycaret==3.0.0->-r /content/drive/MyDrive/ColabNotebooks/DataQAHelperWithoutLLM/requirements.txt (line 20)) (1.1.3)\n",
            "Requirement already satisfied: pmdarima!=1.8.1,<3.0.0,>=1.8.0 in /usr/local/lib/python3.10/dist-packages (from pycaret==3.0.0->-r /content/drive/MyDrive/ColabNotebooks/DataQAHelperWithoutLLM/requirements.txt (line 20)) (2.0.4)\n",
            "Requirement already satisfied: wurlitzer in /usr/local/lib/python3.10/dist-packages (from pycaret==3.0.0->-r /content/drive/MyDrive/ColabNotebooks/DataQAHelperWithoutLLM/requirements.txt (line 20)) (3.1.1)\n",
            "Requirement already satisfied: lxml>=2.3.2 in /usr/local/lib/python3.10/dist-packages (from python-docx==0.8.11->-r /content/drive/MyDrive/ColabNotebooks/DataQAHelperWithoutLLM/requirements.txt (line 23)) (4.9.4)\n",
            "Requirement already satisfied: slicer==0.0.7 in /usr/local/lib/python3.10/dist-packages (from shap==0.41.0->-r /content/drive/MyDrive/ColabNotebooks/DataQAHelperWithoutLLM/requirements.txt (line 24)) (0.0.7)\n",
            "Requirement already satisfied: Werkzeug>=2.2.2 in /usr/local/lib/python3.10/dist-packages (from flask->jupyter-dash==0.4.2->-r /content/drive/MyDrive/ColabNotebooks/DataQAHelperWithoutLLM/requirements.txt (line 10)) (3.0.3)\n",
            "Requirement already satisfied: itsdangerous>=2.0 in /usr/local/lib/python3.10/dist-packages (from flask->jupyter-dash==0.4.2->-r /content/drive/MyDrive/ColabNotebooks/DataQAHelperWithoutLLM/requirements.txt (line 10)) (2.2.0)\n",
            "Requirement already satisfied: click>=8.0 in /usr/local/lib/python3.10/dist-packages (from flask->jupyter-dash==0.4.2->-r /content/drive/MyDrive/ColabNotebooks/DataQAHelperWithoutLLM/requirements.txt (line 10)) (8.1.7)\n",
            "Requirement already satisfied: zipp>=0.5 in /usr/local/lib/python3.10/dist-packages (from importlib-metadata>=4.12.0->pycaret==3.0.0->-r /content/drive/MyDrive/ColabNotebooks/DataQAHelperWithoutLLM/requirements.txt (line 20)) (3.20.0)\n",
            "Requirement already satisfied: setuptools>=18.5 in /usr/local/lib/python3.10/dist-packages (from ipython->jupyter-dash==0.4.2->-r /content/drive/MyDrive/ColabNotebooks/DataQAHelperWithoutLLM/requirements.txt (line 10)) (71.0.4)\n",
            "Requirement already satisfied: jedi>=0.16 in /usr/local/lib/python3.10/dist-packages (from ipython->jupyter-dash==0.4.2->-r /content/drive/MyDrive/ColabNotebooks/DataQAHelperWithoutLLM/requirements.txt (line 10)) (0.19.1)\n",
            "Requirement already satisfied: decorator in /usr/local/lib/python3.10/dist-packages (from ipython->jupyter-dash==0.4.2->-r /content/drive/MyDrive/ColabNotebooks/DataQAHelperWithoutLLM/requirements.txt (line 10)) (4.4.2)\n",
            "Requirement already satisfied: pickleshare in /usr/local/lib/python3.10/dist-packages (from ipython->jupyter-dash==0.4.2->-r /content/drive/MyDrive/ColabNotebooks/DataQAHelperWithoutLLM/requirements.txt (line 10)) (0.7.5)\n",
            "Requirement already satisfied: prompt-toolkit!=3.0.0,!=3.0.1,<3.1.0,>=2.0.0 in /usr/local/lib/python3.10/dist-packages (from ipython->jupyter-dash==0.4.2->-r /content/drive/MyDrive/ColabNotebooks/DataQAHelperWithoutLLM/requirements.txt (line 10)) (3.0.47)\n",
            "Requirement already satisfied: pygments in /usr/local/lib/python3.10/dist-packages (from ipython->jupyter-dash==0.4.2->-r /content/drive/MyDrive/ColabNotebooks/DataQAHelperWithoutLLM/requirements.txt (line 10)) (2.16.1)\n",
            "Requirement already satisfied: backcall in /usr/local/lib/python3.10/dist-packages (from ipython->jupyter-dash==0.4.2->-r /content/drive/MyDrive/ColabNotebooks/DataQAHelperWithoutLLM/requirements.txt (line 10)) (0.2.0)\n",
            "Requirement already satisfied: pexpect>4.3 in /usr/local/lib/python3.10/dist-packages (from ipython->jupyter-dash==0.4.2->-r /content/drive/MyDrive/ColabNotebooks/DataQAHelperWithoutLLM/requirements.txt (line 10)) (4.9.0)\n",
            "Requirement already satisfied: ipython-genutils~=0.2.0 in /usr/local/lib/python3.10/dist-packages (from ipywidgets>=7.6.5->pycaret==3.0.0->-r /content/drive/MyDrive/ColabNotebooks/DataQAHelperWithoutLLM/requirements.txt (line 20)) (0.2.0)\n",
            "Requirement already satisfied: widgetsnbextension~=3.6.0 in /usr/local/lib/python3.10/dist-packages (from ipywidgets>=7.6.5->pycaret==3.0.0->-r /content/drive/MyDrive/ColabNotebooks/DataQAHelperWithoutLLM/requirements.txt (line 20)) (3.6.8)\n",
            "Requirement already satisfied: jupyterlab-widgets>=1.0.0 in /usr/local/lib/python3.10/dist-packages (from ipywidgets>=7.6.5->pycaret==3.0.0->-r /content/drive/MyDrive/ColabNotebooks/DataQAHelperWithoutLLM/requirements.txt (line 20)) (3.0.11)\n",
            "Requirement already satisfied: jupyter-client in /usr/local/lib/python3.10/dist-packages (from ipykernel->jupyter-dash==0.4.2->-r /content/drive/MyDrive/ColabNotebooks/DataQAHelperWithoutLLM/requirements.txt (line 10)) (6.1.12)\n",
            "Requirement already satisfied: tornado>=4.2 in /usr/local/lib/python3.10/dist-packages (from ipykernel->jupyter-dash==0.4.2->-r /content/drive/MyDrive/ColabNotebooks/DataQAHelperWithoutLLM/requirements.txt (line 10)) (6.3.3)\n",
            "Requirement already satisfied: fastjsonschema>=2.15 in /usr/local/lib/python3.10/dist-packages (from nbformat>=4.2.0->pycaret==3.0.0->-r /content/drive/MyDrive/ColabNotebooks/DataQAHelperWithoutLLM/requirements.txt (line 20)) (2.20.0)\n",
            "Requirement already satisfied: jsonschema>=2.6 in /usr/local/lib/python3.10/dist-packages (from nbformat>=4.2.0->pycaret==3.0.0->-r /content/drive/MyDrive/ColabNotebooks/DataQAHelperWithoutLLM/requirements.txt (line 20)) (4.23.0)\n",
            "Requirement already satisfied: jupyter-core!=5.0.*,>=4.12 in /usr/local/lib/python3.10/dist-packages (from nbformat>=4.2.0->pycaret==3.0.0->-r /content/drive/MyDrive/ColabNotebooks/DataQAHelperWithoutLLM/requirements.txt (line 20)) (5.7.2)\n",
            "Requirement already satisfied: llvmlite<0.44,>=0.43.0dev0 in /usr/local/lib/python3.10/dist-packages (from numba>=0.55.0->pycaret==3.0.0->-r /content/drive/MyDrive/ColabNotebooks/DataQAHelperWithoutLLM/requirements.txt (line 20)) (0.43.0)\n",
            "Requirement already satisfied: six in /usr/local/lib/python3.10/dist-packages (from patsy>=0.5.2->statsmodels==0.13.5->-r /content/drive/MyDrive/ColabNotebooks/DataQAHelperWithoutLLM/requirements.txt (line 8)) (1.16.0)\n",
            "Requirement already satisfied: orjson<4.0.0,>=3.8.0 in /usr/local/lib/python3.10/dist-packages (from plotly-resampler>=0.8.3.1->pycaret==3.0.0->-r /content/drive/MyDrive/ColabNotebooks/DataQAHelperWithoutLLM/requirements.txt (line 20)) (3.10.7)\n",
            "Requirement already satisfied: tsdownsample>=0.1.3 in /usr/local/lib/python3.10/dist-packages (from plotly-resampler>=0.8.3.1->pycaret==3.0.0->-r /content/drive/MyDrive/ColabNotebooks/DataQAHelperWithoutLLM/requirements.txt (line 20)) (0.1.3)\n",
            "Requirement already satisfied: Cython!=0.29.18,!=0.29.31,>=0.29 in /usr/local/lib/python3.10/dist-packages (from pmdarima!=1.8.1,<3.0.0,>=1.8.0->pycaret==3.0.0->-r /content/drive/MyDrive/ColabNotebooks/DataQAHelperWithoutLLM/requirements.txt (line 20)) (3.0.11)\n",
            "Requirement already satisfied: urllib3 in /usr/local/lib/python3.10/dist-packages (from pmdarima!=1.8.1,<3.0.0,>=1.8.0->pycaret==3.0.0->-r /content/drive/MyDrive/ColabNotebooks/DataQAHelperWithoutLLM/requirements.txt (line 20)) (2.0.7)\n",
            "Requirement already satisfied: charset-normalizer<4,>=2 in /usr/local/lib/python3.10/dist-packages (from requests->jupyter-dash==0.4.2->-r /content/drive/MyDrive/ColabNotebooks/DataQAHelperWithoutLLM/requirements.txt (line 10)) (3.3.2)\n",
            "Requirement already satisfied: idna<4,>=2.5 in /usr/local/lib/python3.10/dist-packages (from requests->jupyter-dash==0.4.2->-r /content/drive/MyDrive/ColabNotebooks/DataQAHelperWithoutLLM/requirements.txt (line 10)) (3.7)\n",
            "Requirement already satisfied: certifi>=2017.4.17 in /usr/local/lib/python3.10/dist-packages (from requests->jupyter-dash==0.4.2->-r /content/drive/MyDrive/ColabNotebooks/DataQAHelperWithoutLLM/requirements.txt (line 10)) (2024.7.4)\n",
            "Requirement already satisfied: scikit-base<0.9.0,>=0.6.1 in /usr/local/lib/python3.10/dist-packages (from sktime>=0.16.1->pycaret==3.0.0->-r /content/drive/MyDrive/ColabNotebooks/DataQAHelperWithoutLLM/requirements.txt (line 20)) (0.8.3)\n",
            "Requirement already satisfied: parso<0.9.0,>=0.8.3 in /usr/local/lib/python3.10/dist-packages (from jedi>=0.16->ipython->jupyter-dash==0.4.2->-r /content/drive/MyDrive/ColabNotebooks/DataQAHelperWithoutLLM/requirements.txt (line 10)) (0.8.4)\n",
            "Requirement already satisfied: attrs>=22.2.0 in /usr/local/lib/python3.10/dist-packages (from jsonschema>=2.6->nbformat>=4.2.0->pycaret==3.0.0->-r /content/drive/MyDrive/ColabNotebooks/DataQAHelperWithoutLLM/requirements.txt (line 20)) (24.2.0)\n",
            "Requirement already satisfied: jsonschema-specifications>=2023.03.6 in /usr/local/lib/python3.10/dist-packages (from jsonschema>=2.6->nbformat>=4.2.0->pycaret==3.0.0->-r /content/drive/MyDrive/ColabNotebooks/DataQAHelperWithoutLLM/requirements.txt (line 20)) (2023.12.1)\n",
            "Requirement already satisfied: referencing>=0.28.4 in /usr/local/lib/python3.10/dist-packages (from jsonschema>=2.6->nbformat>=4.2.0->pycaret==3.0.0->-r /content/drive/MyDrive/ColabNotebooks/DataQAHelperWithoutLLM/requirements.txt (line 20)) (0.35.1)\n",
            "Requirement already satisfied: rpds-py>=0.7.1 in /usr/local/lib/python3.10/dist-packages (from jsonschema>=2.6->nbformat>=4.2.0->pycaret==3.0.0->-r /content/drive/MyDrive/ColabNotebooks/DataQAHelperWithoutLLM/requirements.txt (line 20)) (0.20.0)\n",
            "Requirement already satisfied: platformdirs>=2.5 in /usr/local/lib/python3.10/dist-packages (from jupyter-core!=5.0.*,>=4.12->nbformat>=4.2.0->pycaret==3.0.0->-r /content/drive/MyDrive/ColabNotebooks/DataQAHelperWithoutLLM/requirements.txt (line 20)) (4.2.2)\n",
            "Requirement already satisfied: ptyprocess>=0.5 in /usr/local/lib/python3.10/dist-packages (from pexpect>4.3->ipython->jupyter-dash==0.4.2->-r /content/drive/MyDrive/ColabNotebooks/DataQAHelperWithoutLLM/requirements.txt (line 10)) (0.7.0)\n",
            "Requirement already satisfied: wcwidth in /usr/local/lib/python3.10/dist-packages (from prompt-toolkit!=3.0.0,!=3.0.1,<3.1.0,>=2.0.0->ipython->jupyter-dash==0.4.2->-r /content/drive/MyDrive/ColabNotebooks/DataQAHelperWithoutLLM/requirements.txt (line 10)) (0.2.13)\n",
            "Requirement already satisfied: notebook>=4.4.1 in /usr/local/lib/python3.10/dist-packages (from widgetsnbextension~=3.6.0->ipywidgets>=7.6.5->pycaret==3.0.0->-r /content/drive/MyDrive/ColabNotebooks/DataQAHelperWithoutLLM/requirements.txt (line 20)) (6.5.5)\n",
            "Requirement already satisfied: pyzmq>=13 in /usr/local/lib/python3.10/dist-packages (from jupyter-client->ipykernel->jupyter-dash==0.4.2->-r /content/drive/MyDrive/ColabNotebooks/DataQAHelperWithoutLLM/requirements.txt (line 10)) (24.0.1)\n",
            "Requirement already satisfied: argon2-cffi in /usr/local/lib/python3.10/dist-packages (from notebook>=4.4.1->widgetsnbextension~=3.6.0->ipywidgets>=7.6.5->pycaret==3.0.0->-r /content/drive/MyDrive/ColabNotebooks/DataQAHelperWithoutLLM/requirements.txt (line 20)) (23.1.0)\n",
            "Requirement already satisfied: nbconvert>=5 in /usr/local/lib/python3.10/dist-packages (from notebook>=4.4.1->widgetsnbextension~=3.6.0->ipywidgets>=7.6.5->pycaret==3.0.0->-r /content/drive/MyDrive/ColabNotebooks/DataQAHelperWithoutLLM/requirements.txt (line 20)) (6.5.4)\n",
            "Requirement already satisfied: Send2Trash>=1.8.0 in /usr/local/lib/python3.10/dist-packages (from notebook>=4.4.1->widgetsnbextension~=3.6.0->ipywidgets>=7.6.5->pycaret==3.0.0->-r /content/drive/MyDrive/ColabNotebooks/DataQAHelperWithoutLLM/requirements.txt (line 20)) (1.8.3)\n",
            "Requirement already satisfied: terminado>=0.8.3 in /usr/local/lib/python3.10/dist-packages (from notebook>=4.4.1->widgetsnbextension~=3.6.0->ipywidgets>=7.6.5->pycaret==3.0.0->-r /content/drive/MyDrive/ColabNotebooks/DataQAHelperWithoutLLM/requirements.txt (line 20)) (0.18.1)\n",
            "Requirement already satisfied: prometheus-client in /usr/local/lib/python3.10/dist-packages (from notebook>=4.4.1->widgetsnbextension~=3.6.0->ipywidgets>=7.6.5->pycaret==3.0.0->-r /content/drive/MyDrive/ColabNotebooks/DataQAHelperWithoutLLM/requirements.txt (line 20)) (0.20.0)\n",
            "Requirement already satisfied: nbclassic>=0.4.7 in /usr/local/lib/python3.10/dist-packages (from notebook>=4.4.1->widgetsnbextension~=3.6.0->ipywidgets>=7.6.5->pycaret==3.0.0->-r /content/drive/MyDrive/ColabNotebooks/DataQAHelperWithoutLLM/requirements.txt (line 20)) (1.1.0)\n",
            "Requirement already satisfied: notebook-shim>=0.2.3 in /usr/local/lib/python3.10/dist-packages (from nbclassic>=0.4.7->notebook>=4.4.1->widgetsnbextension~=3.6.0->ipywidgets>=7.6.5->pycaret==3.0.0->-r /content/drive/MyDrive/ColabNotebooks/DataQAHelperWithoutLLM/requirements.txt (line 20)) (0.2.4)\n",
            "Requirement already satisfied: beautifulsoup4 in /usr/local/lib/python3.10/dist-packages (from nbconvert>=5->notebook>=4.4.1->widgetsnbextension~=3.6.0->ipywidgets>=7.6.5->pycaret==3.0.0->-r /content/drive/MyDrive/ColabNotebooks/DataQAHelperWithoutLLM/requirements.txt (line 20)) (4.12.3)\n",
            "Requirement already satisfied: bleach in /usr/local/lib/python3.10/dist-packages (from nbconvert>=5->notebook>=4.4.1->widgetsnbextension~=3.6.0->ipywidgets>=7.6.5->pycaret==3.0.0->-r /content/drive/MyDrive/ColabNotebooks/DataQAHelperWithoutLLM/requirements.txt (line 20)) (6.1.0)\n",
            "Requirement already satisfied: defusedxml in /usr/local/lib/python3.10/dist-packages (from nbconvert>=5->notebook>=4.4.1->widgetsnbextension~=3.6.0->ipywidgets>=7.6.5->pycaret==3.0.0->-r /content/drive/MyDrive/ColabNotebooks/DataQAHelperWithoutLLM/requirements.txt (line 20)) (0.7.1)\n",
            "Requirement already satisfied: entrypoints>=0.2.2 in /usr/local/lib/python3.10/dist-packages (from nbconvert>=5->notebook>=4.4.1->widgetsnbextension~=3.6.0->ipywidgets>=7.6.5->pycaret==3.0.0->-r /content/drive/MyDrive/ColabNotebooks/DataQAHelperWithoutLLM/requirements.txt (line 20)) (0.4)\n",
            "Requirement already satisfied: jupyterlab-pygments in /usr/local/lib/python3.10/dist-packages (from nbconvert>=5->notebook>=4.4.1->widgetsnbextension~=3.6.0->ipywidgets>=7.6.5->pycaret==3.0.0->-r /content/drive/MyDrive/ColabNotebooks/DataQAHelperWithoutLLM/requirements.txt (line 20)) (0.3.0)\n",
            "Requirement already satisfied: mistune<2,>=0.8.1 in /usr/local/lib/python3.10/dist-packages (from nbconvert>=5->notebook>=4.4.1->widgetsnbextension~=3.6.0->ipywidgets>=7.6.5->pycaret==3.0.0->-r /content/drive/MyDrive/ColabNotebooks/DataQAHelperWithoutLLM/requirements.txt (line 20)) (0.8.4)\n",
            "Requirement already satisfied: nbclient>=0.5.0 in /usr/local/lib/python3.10/dist-packages (from nbconvert>=5->notebook>=4.4.1->widgetsnbextension~=3.6.0->ipywidgets>=7.6.5->pycaret==3.0.0->-r /content/drive/MyDrive/ColabNotebooks/DataQAHelperWithoutLLM/requirements.txt (line 20)) (0.10.0)\n",
            "Requirement already satisfied: pandocfilters>=1.4.1 in /usr/local/lib/python3.10/dist-packages (from nbconvert>=5->notebook>=4.4.1->widgetsnbextension~=3.6.0->ipywidgets>=7.6.5->pycaret==3.0.0->-r /content/drive/MyDrive/ColabNotebooks/DataQAHelperWithoutLLM/requirements.txt (line 20)) (1.5.1)\n",
            "Requirement already satisfied: tinycss2 in /usr/local/lib/python3.10/dist-packages (from nbconvert>=5->notebook>=4.4.1->widgetsnbextension~=3.6.0->ipywidgets>=7.6.5->pycaret==3.0.0->-r /content/drive/MyDrive/ColabNotebooks/DataQAHelperWithoutLLM/requirements.txt (line 20)) (1.3.0)\n",
            "Requirement already satisfied: argon2-cffi-bindings in /usr/local/lib/python3.10/dist-packages (from argon2-cffi->notebook>=4.4.1->widgetsnbextension~=3.6.0->ipywidgets>=7.6.5->pycaret==3.0.0->-r /content/drive/MyDrive/ColabNotebooks/DataQAHelperWithoutLLM/requirements.txt (line 20)) (21.2.0)\n",
            "Requirement already satisfied: jupyter-server<3,>=1.8 in /usr/local/lib/python3.10/dist-packages (from notebook-shim>=0.2.3->nbclassic>=0.4.7->notebook>=4.4.1->widgetsnbextension~=3.6.0->ipywidgets>=7.6.5->pycaret==3.0.0->-r /content/drive/MyDrive/ColabNotebooks/DataQAHelperWithoutLLM/requirements.txt (line 20)) (1.24.0)\n",
            "Requirement already satisfied: cffi>=1.0.1 in /usr/local/lib/python3.10/dist-packages (from argon2-cffi-bindings->argon2-cffi->notebook>=4.4.1->widgetsnbextension~=3.6.0->ipywidgets>=7.6.5->pycaret==3.0.0->-r /content/drive/MyDrive/ColabNotebooks/DataQAHelperWithoutLLM/requirements.txt (line 20)) (1.17.0)\n",
            "Requirement already satisfied: soupsieve>1.2 in /usr/local/lib/python3.10/dist-packages (from beautifulsoup4->nbconvert>=5->notebook>=4.4.1->widgetsnbextension~=3.6.0->ipywidgets>=7.6.5->pycaret==3.0.0->-r /content/drive/MyDrive/ColabNotebooks/DataQAHelperWithoutLLM/requirements.txt (line 20)) (2.6)\n",
            "Requirement already satisfied: webencodings in /usr/local/lib/python3.10/dist-packages (from bleach->nbconvert>=5->notebook>=4.4.1->widgetsnbextension~=3.6.0->ipywidgets>=7.6.5->pycaret==3.0.0->-r /content/drive/MyDrive/ColabNotebooks/DataQAHelperWithoutLLM/requirements.txt (line 20)) (0.5.1)\n",
            "Requirement already satisfied: pycparser in /usr/local/lib/python3.10/dist-packages (from cffi>=1.0.1->argon2-cffi-bindings->argon2-cffi->notebook>=4.4.1->widgetsnbextension~=3.6.0->ipywidgets>=7.6.5->pycaret==3.0.0->-r /content/drive/MyDrive/ColabNotebooks/DataQAHelperWithoutLLM/requirements.txt (line 20)) (2.22)\n",
            "Requirement already satisfied: anyio<4,>=3.1.0 in /usr/local/lib/python3.10/dist-packages (from jupyter-server<3,>=1.8->notebook-shim>=0.2.3->nbclassic>=0.4.7->notebook>=4.4.1->widgetsnbextension~=3.6.0->ipywidgets>=7.6.5->pycaret==3.0.0->-r /content/drive/MyDrive/ColabNotebooks/DataQAHelperWithoutLLM/requirements.txt (line 20)) (3.7.1)\n",
            "Requirement already satisfied: websocket-client in /usr/local/lib/python3.10/dist-packages (from jupyter-server<3,>=1.8->notebook-shim>=0.2.3->nbclassic>=0.4.7->notebook>=4.4.1->widgetsnbextension~=3.6.0->ipywidgets>=7.6.5->pycaret==3.0.0->-r /content/drive/MyDrive/ColabNotebooks/DataQAHelperWithoutLLM/requirements.txt (line 20)) (1.8.0)\n",
            "Requirement already satisfied: sniffio>=1.1 in /usr/local/lib/python3.10/dist-packages (from anyio<4,>=3.1.0->jupyter-server<3,>=1.8->notebook-shim>=0.2.3->nbclassic>=0.4.7->notebook>=4.4.1->widgetsnbextension~=3.6.0->ipywidgets>=7.6.5->pycaret==3.0.0->-r /content/drive/MyDrive/ColabNotebooks/DataQAHelperWithoutLLM/requirements.txt (line 20)) (1.3.1)\n",
            "Requirement already satisfied: exceptiongroup in /usr/local/lib/python3.10/dist-packages (from anyio<4,>=3.1.0->jupyter-server<3,>=1.8->notebook-shim>=0.2.3->nbclassic>=0.4.7->notebook>=4.4.1->widgetsnbextension~=3.6.0->ipywidgets>=7.6.5->pycaret==3.0.0->-r /content/drive/MyDrive/ColabNotebooks/DataQAHelperWithoutLLM/requirements.txt (line 20)) (1.2.2)\n"
          ]
        }
      ],
      "source": [
        "from google.colab import drive\n",
        "drive.mount('/content/drive')\n",
        "!pip install -r /content/drive/MyDrive/ColabNotebooks/DataQAHelperWithoutLLM/requirements.txt\n",
        "import sys\n",
        "sys.path.append('/content/drive/MyDrive/ColabNotebooks/DataQAHelperWithoutLLM/')"
      ]
    },
    {
      "cell_type": "code",
      "source": [
        "# Because the version of Colab is updated, some packages must be upgraded. There may be an error reminder, but it has no effect on the use of the framework in Colab. There is no such issue when using the framework locally after downloading it.\n",
        "!pip install pandas==2.0.0\n",
        "!pip install scipy==1.8.0"
      ],
      "metadata": {
        "id": "C6RULYC18KCJ",
        "colab": {
          "base_uri": "https://localhost:8080/"
        },
        "outputId": "ccf34114-6847-4551-9ce4-ca0f304d4057"
      },
      "execution_count": 2,
      "outputs": [
        {
          "output_type": "stream",
          "name": "stdout",
          "text": [
            "Collecting pandas==2.0.0\n",
            "  Using cached pandas-2.0.0-cp310-cp310-manylinux_2_17_x86_64.manylinux2014_x86_64.whl.metadata (18 kB)\n",
            "Requirement already satisfied: python-dateutil>=2.8.2 in /usr/local/lib/python3.10/dist-packages (from pandas==2.0.0) (2.8.2)\n",
            "Requirement already satisfied: pytz>=2020.1 in /usr/local/lib/python3.10/dist-packages (from pandas==2.0.0) (2024.1)\n",
            "Requirement already satisfied: tzdata>=2022.1 in /usr/local/lib/python3.10/dist-packages (from pandas==2.0.0) (2024.1)\n",
            "Requirement already satisfied: numpy>=1.21.0 in /usr/local/lib/python3.10/dist-packages (from pandas==2.0.0) (1.23.5)\n",
            "Requirement already satisfied: six>=1.5 in /usr/local/lib/python3.10/dist-packages (from python-dateutil>=2.8.2->pandas==2.0.0) (1.16.0)\n",
            "Using cached pandas-2.0.0-cp310-cp310-manylinux_2_17_x86_64.manylinux2014_x86_64.whl (12.3 MB)\n",
            "Installing collected packages: pandas\n",
            "  Attempting uninstall: pandas\n",
            "    Found existing installation: pandas 1.5.3\n",
            "    Uninstalling pandas-1.5.3:\n",
            "      Successfully uninstalled pandas-1.5.3\n",
            "\u001b[31mERROR: pip's dependency resolver does not currently take into account all the packages that are installed. This behaviour is the source of the following dependency conflicts.\n",
            "arviz 0.18.0 requires scipy>=1.9.0, but you have scipy 1.8.0 which is incompatible.\n",
            "google-colab 1.0.0 requires pandas==2.1.4, but you have pandas 2.0.0 which is incompatible.\n",
            "plotnine 0.12.4 requires statsmodels>=0.14.0, but you have statsmodels 0.13.5 which is incompatible.\n",
            "pycaret 3.0.0 requires pandas<1.6.0,>=1.3.0, but you have pandas 2.0.0 which is incompatible.\u001b[0m\u001b[31m\n",
            "\u001b[0mSuccessfully installed pandas-2.0.0\n",
            "Requirement already satisfied: scipy==1.8.0 in /usr/local/lib/python3.10/dist-packages (1.8.0)\n",
            "Requirement already satisfied: numpy<1.25.0,>=1.17.3 in /usr/local/lib/python3.10/dist-packages (from scipy==1.8.0) (1.23.5)\n"
          ]
        }
      ]
    },
    {
      "cell_type": "code",
      "source": [
        "!ls \"/content/drive/MyDrive/ColabNotebooks/DataQAHelperWithoutLLM\""
      ],
      "metadata": {
        "colab": {
          "base_uri": "https://localhost:8080/"
        },
        "id": "A5D4mAMiGAXJ",
        "outputId": "06fc26cb-9737-47d5-c172-0bf381d9efac"
      },
      "execution_count": 3,
      "outputs": [
        {
          "output_type": "stream",
          "name": "stdout",
          "text": [
            "ACCCPdata  DataScienceComponents.py  NLGComponents.py  requirements.txt\n",
            "data\t   IntegratedPipelines.py    __pycache__       templates\n"
          ]
        }
      ]
    },
    {
      "cell_type": "code",
      "source": [
        "## Select the dataset that can answer the questions.\n",
        "## Then, choose the required column names.\n",
        "\n",
        "from pandas import read_csv\n",
        "import IntegratedPipelines as IP\n",
        "\n",
        "data1 = read_csv(\"/content/drive/MyDrive/ColabNotebooks/DataQAHelperWithoutLLM/data/1998to2018drugdeathsexagetype.csv\", header=0)\n",
        "col_names = ['year', 'drug-related deaths', 'males', 'females', 'Deaths under age 14',\n",
        "             'Deaths between the ages of 15 and 24', 'Deaths between the ages of 25 and 34',\n",
        "             'Deaths between the ages of 35 and 44', 'Deaths between the ages of 45 and 54',\n",
        "             'Deaths between the ages of 55 and 64', 'Deaths ages over 65', 'average age of death',\n",
        "             'dead by Heroin/morphine 2', 'dead by Methadone', 'dead by Heroin/morphine, Methadone or Bupren-orphine',\n",
        "             'dead by Codeine or a codeine-containing compound',\n",
        "             'dead by Dihydro-codeine or a d.h.c-containing compound', 'dead by any opiate or opioid', ]\n",
        "data2 = read_csv(\"/content/drive/MyDrive/ColabNotebooks/DataQAHelperWithoutLLM/data/drugdeathsexagetype.csv\", header=None, names=col_names)\n",
        "col_names = ['Year', 'all drug-related deaths', 'more than one drug was found', 'only one drug was found',\n",
        "             'more than one drug was found in %', 'more than one drug was found to be present in the body',\n",
        "             'accidental poisonings']\n",
        "data3 = read_csv(\"/content/drive/MyDrive/ColabNotebooks/DataQAHelperWithoutLLM/data/onedrug.csv\", header=None, names=col_names)\n",
        "col_names = ['Year', 'death by ‘street’ benzodiazepines (such as etizolam)',\n",
        "             'death by methadone', 'death by heroin/morphine',\n",
        "             'death by gabapentin and/or pregabalin',\n",
        "             'death by cocaine', 'death by opiates/opioids (such as heroin/morphine and methadone)',\n",
        "             'death by benzodiazepines (such as diazepam and etizolam)']\n",
        "data4 = read_csv(\"/content/drive/MyDrive/ColabNotebooks/DataQAHelperWithoutLLM/data/drugsubstancesimplicated.csv\", header=None, names=col_names)\n",
        "num_breaks=4\n",
        "choose_year=2020\n",
        "Xcol='year'\n",
        "ycol='drug-related deaths'\n",
        "Xcolname = \"Year\"\n",
        "ycolname1 = \"accidental poisonings\"\n",
        "ycolname2 = \"all drug-related deaths\"\n",
        "ycolname3 = \"more than one drug was found to be present in the body\"\n",
        "ycolnames = [\"death by ‘street’ benzodiazepines (such as etizolam)\",\n",
        "             \"death by methadone\", \"death by heroin/morphine\",\n",
        "             \"death by gabapentin and/or pregabalin\",\n",
        "             \"death by cocaine\", \"death by opiates/opioids (such as heroin/morphine and methadone)\",\n",
        "             \"death by benzodiazepines (such as diazepam and etizolam)\"]\n",
        "age_groups = ['Deaths under age 14',\n",
        "             'Deaths between the ages of 15 and 24', 'Deaths between the ages of 25 and 34',\n",
        "             'Deaths between the ages of 35 and 44', 'Deaths between the ages of 45 and 54',\n",
        "             'Deaths between the ages of 55 and 64', 'Deaths ages over 65']\n",
        "y1name = \"males\"\n",
        "y2name = \"females\"\n",
        "category_name = \" number of deaths where one or more of the following substances \"\n",
        "## Select the location of the report template\n",
        "template_path = '/content/drive/MyDrive/ColabNotebooks/DataQAHelperWithoutLLM/templates/drug-related-deaths-tem.docx'"
      ],
      "metadata": {
        "id": "8pXcG0c_8u5J"
      },
      "execution_count": 4,
      "outputs": []
    },
    {
      "cell_type": "code",
      "source": [
        "# Running pipeline\n",
        "pipeline=IP.casestudy_datastory_pipeline()\n",
        "pipeline.DRD_mainquestions(data1, data2,data3,data4,Xcol, ycol, num_breaks,choose_year,age_groups,y1name,y2name,Xcolname,ycolname1,ycolname2,ycolname3,category_name,ycolnames,template_path)"
      ],
      "metadata": {
        "colab": {
          "base_uri": "https://localhost:8080/"
        },
        "id": "xlF_hHb68vQ2",
        "outputId": "f805ad74-99bf-430b-f2e2-3582f63ce0c4"
      },
      "execution_count": 5,
      "outputs": [
        {
          "output_type": "stream",
          "name": "stdout",
          "text": [
            "In general, drug-related deaths have risen since 1996, and the rate has been particularly high since 2013.\n",
            "Replaced {{Q1}} with In general, drug-related deaths have risen since 1996, and the rate has been particularly high since 2013. in paragraph.\n",
            "Replaced {{Q2}} with In 2000, males were more than 4 times as likely to have a drug-related death as females.\n",
            "Overall, this gap has closed over the year. In 2020, males were 2.7 times as likely to have a drug-related death as females. in paragraph.\n",
            "Replaced {{Q3}} with In 2020, 31.29% of all drug-related deaths were of people aged between the ages of 45 and 54, and followed by 31.22% between between the ages of 35 and 44. in paragraph.\n",
            "Replaced {{Q4}} with In 2020, accidental poisonings accounted for 93.0% of all drug-related deaths. in paragraph.\n",
            "Replaced {{Q5}} with In 2020, more than one drug was found to be present in the body accounted for 93.0% of all drug-related deaths. in paragraph.\n",
            "Replaced {{Q6}} with In recent Year, there has been an increase in the  number of deaths where one or more of the following substances were involved:\n",
            "\n",
            "• death by ‘street’ benzodiazepines (such as etizolam), from 58 in 2015 to 879 in 2020\n",
            "• death by methadone, from 251 in 2015 to 708 in 2020\n",
            "• death by heroin/morphine, from 345 in 2015 to 605 in 2020\n",
            "• death by gabapentin and/or pregabalin, from 131 in 2015 to 502 in 2020\n",
            "• death by cocaine, from 93 in 2015 to 459 in 2020\n",
            "• death by opiates/opioids (such as heroin/morphine and methadone), from 606 in 2015 to 1192 in 2020 in paragraph.\n"
          ]
        }
      ]
    }
  ]
}
